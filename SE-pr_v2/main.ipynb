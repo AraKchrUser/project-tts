{
 "cells": [
  {
   "cell_type": "code",
   "execution_count": 1,
   "metadata": {},
   "outputs": [
    {
     "name": "stdout",
     "output_type": "stream",
     "text": [
      "Fri Apr  5 14:56:59 2024       \n",
      "+-----------------------------------------------------------------------------+\n",
      "| NVIDIA-SMI 525.147.05   Driver Version: 525.147.05   CUDA Version: 12.0     |\n",
      "|-------------------------------+----------------------+----------------------+\n",
      "| GPU  Name        Persistence-M| Bus-Id        Disp.A | Volatile Uncorr. ECC |\n",
      "| Fan  Temp  Perf  Pwr:Usage/Cap|         Memory-Usage | GPU-Util  Compute M. |\n",
      "|                               |                      |               MIG M. |\n",
      "|===============================+======================+======================|\n",
      "|   0  NVIDIA GeForce ...  Off  | 00000000:01:00.0 Off |                  Off |\n",
      "|  0%   49C    P8    20W / 450W |      0MiB / 24564MiB |      0%      Default |\n",
      "|                               |                      |                  N/A |\n",
      "+-------------------------------+----------------------+----------------------+\n",
      "                                                                               \n",
      "+-----------------------------------------------------------------------------+\n",
      "| Processes:                                                                  |\n",
      "|  GPU   GI   CI        PID   Type   Process name                  GPU Memory |\n",
      "|        ID   ID                                                   Usage      |\n",
      "|=============================================================================|\n",
      "|  No running processes found                                                 |\n",
      "+-----------------------------------------------------------------------------+\n"
     ]
    }
   ],
   "source": [
    "!nvidia-smi"
   ]
  },
  {
   "cell_type": "code",
   "execution_count": 2,
   "metadata": {},
   "outputs": [],
   "source": [
    "# !pip install --trusted-host pypi.org --trusted-host pypi.python.org --trusted-host files.pythonhosted.org display_tree\n",
    "# !pip3 install requests==2.27.0\n",
    "# !pip show requests"
   ]
  },
  {
   "cell_type": "code",
   "execution_count": null,
   "metadata": {},
   "outputs": [],
   "source": []
  },
  {
   "cell_type": "code",
   "execution_count": 3,
   "metadata": {},
   "outputs": [],
   "source": [
    "import os\n",
    "\n",
    "os.environ[\"http_proxy\"]  = \"http://proxy.ad.speechpro.com:3128\"\n",
    "os.environ[\"https_proxy\"] = \"http://proxy.ad.speechpro.com:3128\"\n",
    "os.environ[\"ftp_proxy\"]   = \"http://proxy.ad.speechpro.com:3128\"\n",
    "\n",
    "# os.environ['CURL_CA_BUNDLE'] = ''"
   ]
  },
  {
   "cell_type": "code",
   "execution_count": 4,
   "metadata": {},
   "outputs": [
    {
     "name": "stderr",
     "output_type": "stream",
     "text": [
      "WARNING:py.warnings:/mnt/driveb/kocharyan/virtual_environments/superenv/lib/python3.10/site-packages/pyannote/audio/core/io.py:43: UserWarning: torchaudio._backend.set_audio_backend has been deprecated. With dispatcher enabled, this function is no-op. You can remove the function call.\n",
      "  torchaudio.set_audio_backend(\"soundfile\")\n",
      "\n"
     ]
    }
   ],
   "source": [
    "# from cutils import create_chunk_dataset, del_folder, load_checkpoint\n",
    "from calc_content import create_hubert_content\n",
    "from clustering import incremental_clustering, PseudoPhonemes\n",
    "from dataset import Text2PseudoPhonemes\n",
    "from models import TextEncoder, TransformerDecoder, Seq2Seq, WhisperX\n",
    "from train import train, speech_editing, init_decoder, init_textencoder, init_dataset\n",
    "\n",
    "from pathlib import Path\n",
    "from typing import *\n",
    "import json\n",
    "\n",
    "import whisperx\n",
    "import matplotlib.pyplot as plt\n",
    "import wget\n",
    "import torch\n",
    "from safetensors.torch import load_file\n",
    "from torch.utils.data import DataLoader\n",
    "\n",
    "%matplotlib inline\n",
    "\n",
    "\n",
    "# !pip install anyascii\n",
    "            #  gruut\n",
    "            #  bnunicodenormalizer\n",
    "            #  bnnumerizer\n",
    "            #  bangla\n",
    "            #  inflect\n",
    "            #  jamo\n",
    "            #  jieba\n",
    "            #  pypinyin\n",
    "            # mutagen\n",
    "# from TTS.tts.utils.text.tokenizer import TTSTokenizer\n",
    "# from TTS.tts.configs.vits_config import VitsConfig\n",
    "\n",
    "\n",
    "def path(_path):\n",
    "    return \"./examples/\" / Path(_path)\n",
    "\n",
    "\n",
    "import os\n",
    "os.environ['TRANSFORMERS_CACHE'] = \"/mnt/storage/kocharyan/hfmodels\""
   ]
  },
  {
   "cell_type": "markdown",
   "metadata": {},
   "source": [
    "### Create test dataset"
   ]
  },
  {
   "cell_type": "code",
   "execution_count": 8,
   "metadata": {},
   "outputs": [
    {
     "name": "stdout",
     "output_type": "stream",
     "text": [
      "rudevices_chunk/\n",
      "├── 2/\n",
      "│   ├── b/\n",
      "│   │   ├── 2ea73463-c1e5-4d4f-93a6-055f6ef159cb.txt\n",
      "│   │   ├── 2ea73463-c1e5-4d4f-93a6-055f6ef159cb.wav\n",
      "│   │   ├── 316cb6f3-5974-4371-a868-2c531a3087e8.txt\n",
      "│   │   ├── 316cb6f3-5974-4371-a868-2c531a3087e8.wav\n",
      "│   │   ├── dc080bc6-089d-4f6d-b033-1d867e747a3a.txt\n",
      "│   │   ├── dc080bc6-089d-4f6d-b033-1d867e747a3a.wav\n",
      "│   │   ├── dd9262b6-bb56-4ffa-9458-2790458ce27e.txt\n",
      "│   │   └── dd9262b6-bb56-4ffa-9458-2790458ce27e.wav\n",
      "│   └── c/\n",
      "│       ├── 289d5d71-83a3-417c-b5b7-9595e41efd88.txt\n",
      "│       ├── 289d5d71-83a3-417c-b5b7-9595e41efd88.wav\n",
      "│       ├── 3ca91220-5827-459f-abdc-562247a8f854.txt\n",
      "│       ├── 3ca91220-5827-459f-abdc-562247a8f854.wav\n",
      "│       ├── 42568ca3-ac48-4307-8280-8541f6262536.txt\n",
      "│       ├── 42568ca3-ac48-4307-8280-8541f6262536.wav\n",
      "│       ├── 6cab54ad-cf57-40b6-b67b-559f9c33f027.txt\n",
      "│       └── 6cab54ad-cf57-40b6-b67b-559f9c33f027.wav\n",
      "└── 7/\n",
      "    ├── 5/\n",
      "    │   ├── 42e7dd00-9a76-4c18-8f31-370b44763cd0.txt\n",
      "    │   ├── 42e7dd00-9a76-4c18-8f31-370b44763cd0.wav\n",
      "    │   ├── 6461a2fe-bcca-4175-b73f-d8a859a03f7e.txt\n",
      "    │   ├── 6461a2fe-bcca-4175-b73f-d8a859a03f7e.wav\n",
      "    │   ├── bb62a8e7-c1be-455e-8ab8-cf511458c29d.txt\n",
      "    │   ├── bb62a8e7-c1be-455e-8ab8-cf511458c29d.wav\n",
      "    │   ├── e9239857-1681-4b04-adf1-046de242eefc.txt\n",
      "    │   └── e9239857-1681-4b04-adf1-046de242eefc.wav\n",
      "    └── 8/\n",
      "        ├── 8e122b3e-1567-415f-a117-667dbf17772e.txt\n",
      "        ├── 8e122b3e-1567-415f-a117-667dbf17772e.wav\n",
      "        ├── d0384dcd-941e-49bf-a7b4-be7cffd93ab4.txt\n",
      "        ├── d0384dcd-941e-49bf-a7b4-be7cffd93ab4.wav\n",
      "        ├── ed73b3ce-37b1-4377-acb6-c0e4514f580b.txt\n",
      "        ├── ed73b3ce-37b1-4377-acb6-c0e4514f580b.wav\n",
      "        ├── f5371378-8cde-4fd2-98c4-e4883ba468a0.txt\n",
      "        └── f5371378-8cde-4fd2-98c4-e4883ba468a0.wav\n"
     ]
    }
   ],
   "source": [
    "create_chunk_dataset(\"../../NIR/RuDevices\", out_dataset=path(\"rudevices_chunk\"), display=True)"
   ]
  },
  {
   "cell_type": "code",
   "execution_count": 10,
   "metadata": {},
   "outputs": [],
   "source": [
    "# !ls examples/rudevices_chunk/1/1/"
   ]
  },
  {
   "cell_type": "code",
   "execution_count": 11,
   "metadata": {},
   "outputs": [],
   "source": [
    "# git clone lengyue233/content-vec-best"
   ]
  },
  {
   "cell_type": "code",
   "execution_count": 12,
   "metadata": {},
   "outputs": [],
   "source": [
    "# !mkdir ../../hfmodels\n",
    "# download_hf_model(\"lengyue233/content-vec-best\", \"../../hfmodels\") #TODO: Add final proj layer in lengyue233/content-vec-best"
   ]
  },
  {
   "cell_type": "markdown",
   "metadata": {},
   "source": [
    "### Create HuBERT contents & Clustering"
   ]
  },
  {
   "cell_type": "code",
   "execution_count": 13,
   "metadata": {},
   "outputs": [
    {
     "name": "stderr",
     "output_type": "stream",
     "text": [
      "WARNING:py.warnings:/mnt/driveb/kocharyan/virtual_environments/superenv/lib/python3.10/site-packages/torch/_utils.py:831: UserWarning: TypedStorage is deprecated. It will be removed in the future and UntypedStorage will be the only storage class. This should only matter to you if you are using storages directly.  To access UntypedStorage directly, use tensor.untyped_storage() instead of tensor.storage()\n",
      "  return self.fget.__get__(instance, owner)()\n",
      "\n"
     ]
    },
    {
     "name": "stdout",
     "output_type": "stream",
     "text": [
      "n_jobs=1\n",
      "{'hmodel_id': '../../hfmodels/content-vec-best', 'data_sr': 16000, 'out_dir': PosixPath('examples/extracted_contents'), 'device': 'cuda', 'rel_to': PosixPath('examples/rudevices_chunk')}\n"
     ]
    },
    {
     "name": "stderr",
     "output_type": "stream",
     "text": [
      "Some weights of HubertModel were not initialized from the model checkpoint at ../../hfmodels/content-vec-best and are newly initialized: ['encoder.pos_conv_embed.conv.parametrizations.weight.original0', 'encoder.pos_conv_embed.conv.parametrizations.weight.original1']\n",
      "You should probably TRAIN this model on a down-stream task to be able to use it for predictions and inference.\n",
      "100%|██████████| 16/16 [00:03<00:00,  4.01it/s]\n"
     ]
    }
   ],
   "source": [
    "#TODO: Add final proj layer in lengyue233/content-vec-best\n",
    "del_folder(path(\"extracted_contents\"))\n",
    "create_hubert_content(\n",
    "    data_dir=path(\"rudevices_chunk\"), out_dir=path(\"extracted_contents\"), \n",
    "    njobs=1, pretrain_path=\"../../hfmodels/content-vec-best\",\n",
    "    )"
   ]
  },
  {
   "cell_type": "code",
   "execution_count": 14,
   "metadata": {},
   "outputs": [
    {
     "name": "stdout",
     "output_type": "stream",
     "text": [
      "hubert contents shape: (828, 768), 2.43 MB\n",
      "hubert contents shape: (870, 768), 2.55 MB\n",
      "hubert contents shape: (872, 768), 2.55 MB\n",
      "hubert contents shape: (191, 768), 0.56 MB\n",
      "Clustering time 0.33 seconds\n"
     ]
    }
   ],
   "source": [
    "incremental_clustering(\n",
    "    path(\"extracted_contents\"), path(\"clusters/clusters.pt\"),\n",
    "    n_clusters=100, batch_size=5, data_pattern=\"*.content.pt\"\n",
    "    )"
   ]
  },
  {
   "cell_type": "code",
   "execution_count": 15,
   "metadata": {},
   "outputs": [],
   "source": [
    "cluster = PseudoPhonemes(path(\"clusters/clusters.pt\"))\n",
    "cluster.build_clusters()"
   ]
  },
  {
   "cell_type": "code",
   "execution_count": 16,
   "metadata": {},
   "outputs": [
    {
     "name": "stdout",
     "output_type": "stream",
     "text": [
      "(100, 768)\n",
      "[50]\n",
      "(1, 768)\n"
     ]
    }
   ],
   "source": [
    "data = torch.load(path(\"clusters/clusters.pt\"))\n",
    "print(data['cluster_centers'].shape)\n",
    "item = (data['cluster_centers'][50] + data['cluster_centers'][25]).reshape(1, -1)\n",
    "print(cluster.predict_cluster_center(item))\n",
    "print(cluster.get_cluster_center(item).shape)"
   ]
  },
  {
   "cell_type": "code",
   "execution_count": 17,
   "metadata": {},
   "outputs": [
    {
     "name": "stdout",
     "output_type": "stream",
     "text": [
      "config.json  convert.py  pytorch_model.bin  README.md\n"
     ]
    }
   ],
   "source": [
    "!ls ../../hfmodels/content-vec-best"
   ]
  },
  {
   "cell_type": "markdown",
   "metadata": {},
   "source": [
    "### Prepare Dataset"
   ]
  },
  {
   "cell_type": "code",
   "execution_count": 5,
   "metadata": {},
   "outputs": [],
   "source": [
    "# conf_p = \"../../NIR/YourTTS-RU-RUSLAN-April-30-2023_03+48PM-0000000/config.json\"\n",
    "dataset = Text2PseudoPhonemes(\n",
    "    path(\"rudevices_chunk\"), path(\"extracted_contents\"), path(\"clusters/clusters.pt\"), \n",
    "    None, None, \"ckpts/yourrtts_config.json\", #pretrain path m.b. \"../../hfmodels/content-vec-best\"\n",
    "    )"
   ]
  },
  {
   "cell_type": "code",
   "execution_count": 6,
   "metadata": {},
   "outputs": [],
   "source": [
    "# batch = next(iter(dataset))\n",
    "# batch['pseudo_ph'].shape, \n",
    "\n",
    "# batch = next(iter(DataLoader(dataset, batch_size=2, collate_fn=lambda x: x)))\n",
    "\n",
    "# batch = next(iter(DataLoader(dataset, batch_size=2, collate_fn=dataset.collate_fn)))\n",
    "# batch['tokens_padded'].shape, batch['lables'].shape, \n",
    "\n",
    "# !mkdir ckpts\n",
    "# !cp ../../NIR/YourTTS-RU-RUSLAN-April-30-2023_03+48PM-0000000/best_model_158996.pth ckpts/yourtts_ruslan.pth"
   ]
  },
  {
   "cell_type": "code",
   "execution_count": 7,
   "metadata": {},
   "outputs": [
    {
     "data": {
      "text/plain": [
       "177"
      ]
     },
     "execution_count": 7,
     "metadata": {},
     "output_type": "execute_result"
    }
   ],
   "source": [
    "len(dataset.tokenizer.characters.vocab)"
   ]
  },
  {
   "cell_type": "code",
   "execution_count": 8,
   "metadata": {},
   "outputs": [],
   "source": [
    "n_vocab         = len(dataset.tokenizer.characters.vocab) # 177\n",
    "inter_channels  = 192\n",
    "hidden_channels = 192\n",
    "filter_channels = 768\n",
    "n_heads         = 2\n",
    "n_layers        = 10 # 6/10 for YourTTS\n",
    "kernel_size     = 3\n",
    "p_dropout       = .1\n",
    "\n",
    "prior_encoder = TextEncoder(\n",
    "    n_vocab, inter_channels, hidden_channels, filter_channels, \n",
    "    n_heads, n_layers, kernel_size, p_dropout,\n",
    ")   "
   ]
  },
  {
   "cell_type": "code",
   "execution_count": 9,
   "metadata": {},
   "outputs": [
    {
     "name": "stderr",
     "output_type": "stream",
     "text": [
      "WARNING:py.warnings:/mnt/driveb/kocharyan/virtual_environments/superenv/lib/python3.10/site-packages/torch/_utils.py:831: UserWarning: TypedStorage is deprecated. It will be removed in the future and UntypedStorage will be the only storage class. This should only matter to you if you are using storages directly.  To access UntypedStorage directly, use tensor.untyped_storage() instead of tensor.storage()\n",
      "  return self.fget.__get__(instance, owner)()\n",
      "\n"
     ]
    }
   ],
   "source": [
    "prior_encoder, conf = load_checkpoint(prior_encoder,\n",
    "                                \"ckpts/yourtts_ruslan.pth\", \n",
    "                                \"text_encoder\", False)"
   ]
  },
  {
   "cell_type": "code",
   "execution_count": 15,
   "metadata": {},
   "outputs": [
    {
     "data": {
      "text/plain": [
       "{'tokens_padded': tensor([[140, 127, 175, 145, 143, 135, 131, 149, 127, 145, 155, 175, 150, 127,\n",
       "          144, 141, 129]]),\n",
       " 'lables': tensor([[100,  68,  44,  44,  86,  91,  91,  22,  22,  22,  22,  22,  22,  77,\n",
       "           48,  10,   9,  27,  78,  78,  78,  39,  39,  75,  42,  72,  72,  72,\n",
       "           55,  55,  13,  13,  13,  13,  79,  79,  98,  61,  61,  61,  61,  61,\n",
       "           45,  45,  45,  66,  66,  66,  66,  66,  40,  40,  40,  40,  34,  34,\n",
       "           34,  34,  34,   6,   6,   6,   6,   6,   6,   6,   6,   6,  81,  81,\n",
       "           81,  81,  81,  81,  81,  81,  24,  24,  24,  24,  24,  24,  24,  24,\n",
       "           87,  87,  87,  87,  87,  87,  87,  87,  68,  49,  49,  49,  49,  49,\n",
       "           68,  49,  49,  49,  68,  49,  14,  14,   0,   0, 101]]),\n",
       " 'text_lens': tensor([17])}"
      ]
     },
     "execution_count": 15,
     "metadata": {},
     "output_type": "execute_result"
    }
   ],
   "source": [
    "batch = next(iter(DataLoader(dataset, batch_size=1, collate_fn=dataset.collate_fn)))\n",
    "batch"
   ]
  },
  {
   "cell_type": "code",
   "execution_count": 22,
   "metadata": {},
   "outputs": [
    {
     "data": {
      "text/plain": [
       "(2, 4)"
      ]
     },
     "execution_count": 22,
     "metadata": {},
     "output_type": "execute_result"
    }
   ],
   "source": [
    "import numpy as np\n",
    "np.ones((3, 4))[:-1, :].shape"
   ]
  },
  {
   "cell_type": "code",
   "execution_count": 29,
   "metadata": {},
   "outputs": [
    {
     "name": "stdout",
     "output_type": "stream",
     "text": [
      "torch.Size([3, 314])\n",
      "torch.Size([3, 313])\n"
     ]
    }
   ],
   "source": [
    "batch = next(iter(DataLoader(dataset, batch_size=3, collate_fn=dataset.collate_fn)))\n",
    "print(batch[\"lables\"].shape)\n",
    "print(batch[\"lables\"][:, :-1].shape)"
   ]
  },
  {
   "cell_type": "code",
   "execution_count": 11,
   "metadata": {},
   "outputs": [
    {
     "name": "stdout",
     "output_type": "stream",
     "text": [
      "batch['tokens_padded'].shape=torch.Size([3, 98])\n"
     ]
    },
    {
     "data": {
      "text/plain": [
       "torch.Size([3, 192, 98])"
      ]
     },
     "execution_count": 11,
     "metadata": {},
     "output_type": "execute_result"
    }
   ],
   "source": [
    "batch = next(iter(DataLoader(dataset, batch_size=3, collate_fn=dataset.collate_fn)))\n",
    "print(f\"{batch['tokens_padded'].shape=}\")\n",
    "enc_out = prior_encoder(batch[\"tokens_padded\"], batch[\"text_lens\"])[0]#.permute((0, 2, 1))\n",
    "enc_out.shape"
   ]
  },
  {
   "cell_type": "code",
   "execution_count": 12,
   "metadata": {},
   "outputs": [
    {
     "data": {
      "text/plain": [
       "(torch.Size([3, 314, 103]), torch.Size([3, 314]))"
      ]
     },
     "execution_count": 12,
     "metadata": {},
     "output_type": "execute_result"
    }
   ],
   "source": [
    "decoder = TransformerDecoder(1, 192, 300, 1, dataset.gen_pad + 1, .1, dataset.gen_pad, dataset.gen_bos, dataset.gen_eos) #TODO dataset.gen_pad + 1\n",
    "decoder(enc_out, batch['lables']).shape, batch['lables'].shape"
   ]
  },
  {
   "cell_type": "code",
   "execution_count": 14,
   "metadata": {},
   "outputs": [
    {
     "data": {
      "text/plain": [
       "torch.Size([3, 314, 103])"
      ]
     },
     "execution_count": 14,
     "metadata": {},
     "output_type": "execute_result"
    }
   ],
   "source": [
    "seq2seq = Seq2Seq(prior_encoder, decoder)\n",
    "seq2seq(batch).shape"
   ]
  },
  {
   "cell_type": "markdown",
   "metadata": {},
   "source": [
    "### Train"
   ]
  },
  {
   "cell_type": "code",
   "execution_count": null,
   "metadata": {},
   "outputs": [],
   "source": []
  },
  {
   "cell_type": "code",
   "execution_count": 6,
   "metadata": {},
   "outputs": [
    {
     "name": "stdout",
     "output_type": "stream",
     "text": [
      "DEBUG: src_emb.shape=torch.Size([16, 98, 192]) tgt_emb.shape=torch.Size([16, 344, 192])\n",
      "Epoch: 1, Train loss: 5.492061614990234, Time: 0.031 min\n",
      "DEBUG: src_emb.shape=torch.Size([16, 98, 192]) tgt_emb.shape=torch.Size([16, 344, 192])\n",
      "DEBUG: src_emb.shape=torch.Size([16, 98, 192]) tgt_emb.shape=torch.Size([16, 344, 192])\n"
     ]
    },
    {
     "ename": "KeyboardInterrupt",
     "evalue": "",
     "output_type": "error",
     "traceback": [
      "\u001b[0;31m---------------------------------------------------------------------------\u001b[0m",
      "\u001b[0;31mKeyboardInterrupt\u001b[0m                         Traceback (most recent call last)",
      "Cell \u001b[0;32mIn[6], line 1\u001b[0m\n\u001b[0;32m----> 1\u001b[0m losses, model, dataset \u001b[38;5;241m=\u001b[39m \u001b[43mtrain\u001b[49m\u001b[43m(\u001b[49m\u001b[43m)\u001b[49m \u001b[38;5;66;03m# 3 layers\u001b[39;00m\n",
      "File \u001b[0;32m/mnt/storage/kocharyan/project-tts/SE-pr_v2/train.py:211\u001b[0m, in \u001b[0;36mtrain\u001b[0;34m()\u001b[0m\n\u001b[1;32m    209\u001b[0m \u001b[38;5;28;01mfor\u001b[39;00m epoch \u001b[38;5;129;01min\u001b[39;00m \u001b[38;5;28mrange\u001b[39m(NUM_EPOCHS):\n\u001b[1;32m    210\u001b[0m     start_time \u001b[38;5;241m=\u001b[39m timer()\n\u001b[0;32m--> 211\u001b[0m     _losses \u001b[38;5;241m=\u001b[39m \u001b[43mtrain_epoch\u001b[49m\u001b[43m(\u001b[49m\u001b[43mmodel\u001b[49m\u001b[43m,\u001b[49m\u001b[43m \u001b[49m\u001b[43moptimizer\u001b[49m\u001b[43m,\u001b[49m\u001b[43m \u001b[49m\u001b[43mloss_fn\u001b[49m\u001b[43m,\u001b[49m\u001b[43m \u001b[49m\u001b[43mdataset\u001b[49m\u001b[43m)\u001b[49m\n\u001b[1;32m    212\u001b[0m     end_time \u001b[38;5;241m=\u001b[39m timer()\n\u001b[1;32m    213\u001b[0m     \u001b[38;5;28;01mif\u001b[39;00m epoch \u001b[38;5;241m%\u001b[39m \u001b[38;5;241m50\u001b[39m \u001b[38;5;241m==\u001b[39m \u001b[38;5;241m0\u001b[39m:\n",
      "File \u001b[0;32m/mnt/storage/kocharyan/project-tts/SE-pr_v2/train.py:141\u001b[0m, in \u001b[0;36mtrain_epoch\u001b[0;34m(model, optimizer, loss_fn, dataset)\u001b[0m\n\u001b[1;32m    136\u001b[0m \u001b[38;5;66;03m# print(lables.shape, lables[:, :-1].shape, lables[:, 1:].shape, logits.shape)\u001b[39;00m\n\u001b[1;32m    137\u001b[0m loss \u001b[38;5;241m=\u001b[39m loss_fn(\n\u001b[1;32m    138\u001b[0m     logits\u001b[38;5;241m.\u001b[39mreshape(\u001b[38;5;241m-\u001b[39m\u001b[38;5;241m1\u001b[39m, logits\u001b[38;5;241m.\u001b[39mshape[\u001b[38;5;241m-\u001b[39m\u001b[38;5;241m1\u001b[39m]), \n\u001b[1;32m    139\u001b[0m     lables[:, \u001b[38;5;241m1\u001b[39m:]\u001b[38;5;241m.\u001b[39mreshape(\u001b[38;5;241m-\u001b[39m\u001b[38;5;241m1\u001b[39m)\n\u001b[1;32m    140\u001b[0m )\n\u001b[0;32m--> 141\u001b[0m \u001b[43mloss\u001b[49m\u001b[38;5;241;43m.\u001b[39;49m\u001b[43mbackward\u001b[49m\u001b[43m(\u001b[49m\u001b[43m)\u001b[49m\n\u001b[1;32m    142\u001b[0m optimizer\u001b[38;5;241m.\u001b[39mstep()\n\u001b[1;32m    144\u001b[0m losses\u001b[38;5;241m.\u001b[39mappend(loss\u001b[38;5;241m.\u001b[39mitem())\n",
      "File \u001b[0;32m/mnt/driveb/kocharyan/virtual_environments/superenv/lib/python3.10/site-packages/torch/_tensor.py:492\u001b[0m, in \u001b[0;36mTensor.backward\u001b[0;34m(self, gradient, retain_graph, create_graph, inputs)\u001b[0m\n\u001b[1;32m    482\u001b[0m \u001b[38;5;28;01mif\u001b[39;00m has_torch_function_unary(\u001b[38;5;28mself\u001b[39m):\n\u001b[1;32m    483\u001b[0m     \u001b[38;5;28;01mreturn\u001b[39;00m handle_torch_function(\n\u001b[1;32m    484\u001b[0m         Tensor\u001b[38;5;241m.\u001b[39mbackward,\n\u001b[1;32m    485\u001b[0m         (\u001b[38;5;28mself\u001b[39m,),\n\u001b[0;32m   (...)\u001b[0m\n\u001b[1;32m    490\u001b[0m         inputs\u001b[38;5;241m=\u001b[39minputs,\n\u001b[1;32m    491\u001b[0m     )\n\u001b[0;32m--> 492\u001b[0m \u001b[43mtorch\u001b[49m\u001b[38;5;241;43m.\u001b[39;49m\u001b[43mautograd\u001b[49m\u001b[38;5;241;43m.\u001b[39;49m\u001b[43mbackward\u001b[49m\u001b[43m(\u001b[49m\n\u001b[1;32m    493\u001b[0m \u001b[43m    \u001b[49m\u001b[38;5;28;43mself\u001b[39;49m\u001b[43m,\u001b[49m\u001b[43m \u001b[49m\u001b[43mgradient\u001b[49m\u001b[43m,\u001b[49m\u001b[43m \u001b[49m\u001b[43mretain_graph\u001b[49m\u001b[43m,\u001b[49m\u001b[43m \u001b[49m\u001b[43mcreate_graph\u001b[49m\u001b[43m,\u001b[49m\u001b[43m \u001b[49m\u001b[43minputs\u001b[49m\u001b[38;5;241;43m=\u001b[39;49m\u001b[43minputs\u001b[49m\n\u001b[1;32m    494\u001b[0m \u001b[43m\u001b[49m\u001b[43m)\u001b[49m\n",
      "File \u001b[0;32m/mnt/driveb/kocharyan/virtual_environments/superenv/lib/python3.10/site-packages/torch/autograd/__init__.py:251\u001b[0m, in \u001b[0;36mbackward\u001b[0;34m(tensors, grad_tensors, retain_graph, create_graph, grad_variables, inputs)\u001b[0m\n\u001b[1;32m    246\u001b[0m     retain_graph \u001b[38;5;241m=\u001b[39m create_graph\n\u001b[1;32m    248\u001b[0m \u001b[38;5;66;03m# The reason we repeat the same comment below is that\u001b[39;00m\n\u001b[1;32m    249\u001b[0m \u001b[38;5;66;03m# some Python versions print out the first line of a multi-line function\u001b[39;00m\n\u001b[1;32m    250\u001b[0m \u001b[38;5;66;03m# calls in the traceback and some print out the last line\u001b[39;00m\n\u001b[0;32m--> 251\u001b[0m \u001b[43mVariable\u001b[49m\u001b[38;5;241;43m.\u001b[39;49m\u001b[43m_execution_engine\u001b[49m\u001b[38;5;241;43m.\u001b[39;49m\u001b[43mrun_backward\u001b[49m\u001b[43m(\u001b[49m\u001b[43m  \u001b[49m\u001b[38;5;66;43;03m# Calls into the C++ engine to run the backward pass\u001b[39;49;00m\n\u001b[1;32m    252\u001b[0m \u001b[43m    \u001b[49m\u001b[43mtensors\u001b[49m\u001b[43m,\u001b[49m\n\u001b[1;32m    253\u001b[0m \u001b[43m    \u001b[49m\u001b[43mgrad_tensors_\u001b[49m\u001b[43m,\u001b[49m\n\u001b[1;32m    254\u001b[0m \u001b[43m    \u001b[49m\u001b[43mretain_graph\u001b[49m\u001b[43m,\u001b[49m\n\u001b[1;32m    255\u001b[0m \u001b[43m    \u001b[49m\u001b[43mcreate_graph\u001b[49m\u001b[43m,\u001b[49m\n\u001b[1;32m    256\u001b[0m \u001b[43m    \u001b[49m\u001b[43minputs\u001b[49m\u001b[43m,\u001b[49m\n\u001b[1;32m    257\u001b[0m \u001b[43m    \u001b[49m\u001b[43mallow_unreachable\u001b[49m\u001b[38;5;241;43m=\u001b[39;49m\u001b[38;5;28;43;01mTrue\u001b[39;49;00m\u001b[43m,\u001b[49m\n\u001b[1;32m    258\u001b[0m \u001b[43m    \u001b[49m\u001b[43maccumulate_grad\u001b[49m\u001b[38;5;241;43m=\u001b[39;49m\u001b[38;5;28;43;01mTrue\u001b[39;49;00m\u001b[43m,\u001b[49m\n\u001b[1;32m    259\u001b[0m \u001b[43m\u001b[49m\u001b[43m)\u001b[49m\n",
      "\u001b[0;31mKeyboardInterrupt\u001b[0m: "
     ]
    }
   ],
   "source": [
    "losses, model, dataset = train() # 3 layers"
   ]
  },
  {
   "cell_type": "code",
   "execution_count": 6,
   "metadata": {},
   "outputs": [
    {
     "data": {
      "image/png": "[encoded data removed]",
      "text/plain": [
       "<Figure size 640x480 with 1 Axes>"
      ]
     },
     "metadata": {},
     "output_type": "display_data"
    }
   ],
   "source": [
    "plt.plot(losses)\n",
    "plt.show()"
   ]
  },
  {
   "cell_type": "markdown",
   "metadata": {},
   "source": [
    "### Decoding"
   ]
  },
  {
   "cell_type": "code",
   "execution_count": 6,
   "metadata": {},
   "outputs": [
    {
     "name": "stderr",
     "output_type": "stream",
     "text": [
      "INFO:pytorch_lightning.utilities.migration.utils:Lightning automatically upgraded your loaded checkpoint from v1.5.4 to v2.2.1. To apply the upgrade to your files permanently, run `python -m pytorch_lightning.utilities.upgrade_checkpoint ../../../../../home/stc/.cache/torch/whisperx-vad-segmentation.bin`\n"
     ]
    },
    {
     "name": "stdout",
     "output_type": "stream",
     "text": [
      "No language specified, language will be first be detected for each audio file (increases inference time).\n",
      "Model was trained with pyannote.audio 0.0.1, yours is 3.1.1. Bad things might happen unless you revert pyannote.audio to 0.x.\n",
      "Model was trained with torch 1.10.0+cu102, yours is 2.1.2+cu118. Bad things might happen unless you revert torch to 1.x.\n"
     ]
    },
    {
     "name": "stderr",
     "output_type": "stream",
     "text": [
      "Some weights of the model checkpoint at /mnt/storage/kocharyan/hfmodels/wav2vec2-large-xlsr-53-russian/ were not used when initializing Wav2Vec2ForCTC: ['wav2vec2.encoder.pos_conv_embed.conv.weight_g', 'wav2vec2.encoder.pos_conv_embed.conv.weight_v']\n",
      "- This IS expected if you are initializing Wav2Vec2ForCTC from the checkpoint of a model trained on another task or with another architecture (e.g. initializing a BertForSequenceClassification model from a BertForPreTraining model).\n",
      "- This IS NOT expected if you are initializing Wav2Vec2ForCTC from the checkpoint of a model that you expect to be exactly identical (initializing a BertForSequenceClassification model from a BertForSequenceClassification model).\n",
      "Some weights of Wav2Vec2ForCTC were not initialized from the model checkpoint at /mnt/storage/kocharyan/hfmodels/wav2vec2-large-xlsr-53-russian/ and are newly initialized: ['wav2vec2.encoder.pos_conv_embed.conv.parametrizations.weight.original0', 'wav2vec2.encoder.pos_conv_embed.conv.parametrizations.weight.original1']\n",
      "You should probably TRAIN this model on a down-stream task to be able to use it for predictions and inference.\n"
     ]
    }
   ],
   "source": [
    "whisperx_model = WhisperX() "
   ]
  },
  {
   "cell_type": "code",
   "execution_count": 4,
   "metadata": {},
   "outputs": [
    {
     "name": "stdout",
     "output_type": "stream",
     "text": [
      "2ea73463-c1e5-4d4f-93a6-055f6ef159cb.txt\n",
      "2ea73463-c1e5-4d4f-93a6-055f6ef159cb.wav\n",
      "316cb6f3-5974-4371-a868-2c531a3087e8.txt\n",
      "316cb6f3-5974-4371-a868-2c531a3087e8.wav\n",
      "dc080bc6-089d-4f6d-b033-1d867e747a3a.txt\n",
      "dc080bc6-089d-4f6d-b033-1d867e747a3a.wav\n",
      "dd9262b6-bb56-4ffa-9458-2790458ce27e.txt\n",
      "dd9262b6-bb56-4ffa-9458-2790458ce27e.wav\n"
     ]
    }
   ],
   "source": [
    "!ls ./examples/rudevices_chunk/2/b/"
   ]
  },
  {
   "cell_type": "code",
   "execution_count": 26,
   "metadata": {},
   "outputs": [
    {
     "data": {
      "text/html": [
       "\n",
       "                <audio  controls=\"controls\" >\n",
       "                    <source src=\"data:audio/x-wav;base64,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\" type=\"audio/x-wav\" />\n",
       "                    Your browser does not support the audio element.\n",
       "                </audio>\n",
       "              "
      ],
      "text/plain": [
       "<IPython.lib.display.Audio object>"
      ]
     },
     "execution_count": 26,
     "metadata": {},
     "output_type": "execute_result"
    }
   ],
   "source": [
    "from IPython.display import Audio\n",
    "\n",
    "Audio(\"./examples/rudevices_chunk/2/b/dd9262b6-bb56-4ffa-9458-2790458ce27e.wav\", rate=16_000)"
   ]
  },
  {
   "cell_type": "code",
   "execution_count": 10,
   "metadata": {},
   "outputs": [
    {
     "name": "stdout",
     "output_type": "stream",
     "text": [
      "скачок который видел в начале графика"
     ]
    }
   ],
   "source": [
    "!cat ./examples/rudevices_chunk/2/b/dd9262b6-bb56-4ffa-9458-2790458ce27e.txt #--> скачок который видел в конце графика"
   ]
  },
  {
   "cell_type": "code",
   "execution_count": 12,
   "metadata": {},
   "outputs": [
    {
     "name": "stdout",
     "output_type": "stream",
     "text": [
      "Warning: audio is shorter than 30s, language detection may be inaccurate.\n",
      "Detected language: ru (0.99) in first 30s of audio...\n"
     ]
    },
    {
     "data": {
      "text/plain": [
       "[{'word': 'Скачок,', 'start': 0.089, 'end': 0.532, 'score': 0.919},\n",
       " {'word': 'который', 'start': 0.572, 'end': 0.874, 'score': 0.927},\n",
       " {'word': 'виден', 'start': 0.914, 'end': 1.135, 'score': 0.552},\n",
       " {'word': 'в', 'start': 1.155, 'end': 1.175, 'score': 1.0},\n",
       " {'word': 'начале', 'start': 1.215, 'end': 1.557, 'score': 0.984},\n",
       " {'word': 'графика.', 'start': 1.618, 'end': 2.08, 'score': 1.0}]"
      ]
     },
     "execution_count": 12,
     "metadata": {},
     "output_type": "execute_result"
    }
   ],
   "source": [
    "bp = \"./examples/rudevices_chunk/2/b/\"\n",
    "audio = WhisperX.load_audio(bp+'dd9262b6-bb56-4ffa-9458-2790458ce27e.wav')\n",
    "out = whisperx_model(audio)\n",
    "alignment = WhisperX.postprocess_out(out, by='words')\n",
    "alignment"
   ]
  },
  {
   "cell_type": "code",
   "execution_count": 33,
   "metadata": {},
   "outputs": [
    {
     "data": {
      "text/plain": [
       "' Скачок, который виден в начале графика.'"
      ]
     },
     "execution_count": 33,
     "metadata": {},
     "output_type": "execute_result"
    }
   ],
   "source": [
    "out['segments'][0]['text']"
   ]
  },
  {
   "cell_type": "code",
   "execution_count": 20,
   "metadata": {},
   "outputs": [
    {
     "data": {
      "text/plain": [
       "{0: ('скачок,', [range(4, 27)]),\n",
       " 1: ('который', [range(28, 44)]),\n",
       " 2: ('виден', [range(45, 57)]),\n",
       " 3: ('в', [range(57, 59)]),\n",
       " 4: ('начале', [range(60, 78)]),\n",
       " 5: ('графика.', [range(80, 105)])}"
      ]
     },
     "execution_count": 20,
     "metadata": {},
     "output_type": "execute_result"
    }
   ],
   "source": [
    "WhisperX.formed_timesteps(alignment)"
   ]
  },
  {
   "cell_type": "code",
   "execution_count": null,
   "metadata": {},
   "outputs": [],
   "source": []
  },
  {
   "cell_type": "code",
   "execution_count": null,
   "metadata": {},
   "outputs": [],
   "source": []
  },
  {
   "cell_type": "code",
   "execution_count": 7,
   "metadata": {},
   "outputs": [],
   "source": [
    "torch.save(model.state_dict(), \"ckpts/seq2seq.pkl\")"
   ]
  },
  {
   "cell_type": "code",
   "execution_count": 3,
   "metadata": {},
   "outputs": [],
   "source": [
    "dataset = init_dataset()\n",
    "encoder, decoder = init_textencoder(dataset), init_decoder(dataset)\n",
    "model = Seq2Seq(encoder, decoder)\n",
    "model.load_state_dict(torch.load(\"ckpts/seq2seq.pkl\"))\n",
    "model.eval();\n"
   ]
  },
  {
   "cell_type": "code",
   "execution_count": 5,
   "metadata": {},
   "outputs": [
    {
     "name": "stderr",
     "output_type": "stream",
     "text": [
      "Some weights of HubertModel were not initialized from the model checkpoint at /mnt/storage/kocharyan/hfmodels/content-vec-best and are newly initialized: ['encoder.pos_conv_embed.conv.parametrizations.weight.original0', 'encoder.pos_conv_embed.conv.parametrizations.weight.original1']\n",
      "You should probably TRAIN this model on a down-stream task to be able to use it for predictions and inference.\n"
     ]
    },
    {
     "name": "stdout",
     "output_type": "stream",
     "text": [
      "DEBUG contents.shape=torch.Size([1, 134, 768])\n",
      "No language specified, language will be first be detected for each audio file (increases inference time).\n"
     ]
    },
    {
     "name": "stderr",
     "output_type": "stream",
     "text": [
      "INFO:pytorch_lightning.utilities.migration.utils:Lightning automatically upgraded your loaded checkpoint from v1.5.4 to v2.2.1. To apply the upgrade to your files permanently, run `python -m pytorch_lightning.utilities.upgrade_checkpoint ../../../../../home/stc/.cache/torch/whisperx-vad-segmentation.bin`\n"
     ]
    },
    {
     "name": "stdout",
     "output_type": "stream",
     "text": [
      "Model was trained with pyannote.audio 0.0.1, yours is 3.1.1. Bad things might happen unless you revert pyannote.audio to 0.x.\n",
      "Model was trained with torch 1.10.0+cu102, yours is 2.1.2+cu118. Bad things might happen unless you revert torch to 1.x.\n"
     ]
    },
    {
     "name": "stderr",
     "output_type": "stream",
     "text": [
      "Some weights of the model checkpoint at /mnt/storage/kocharyan/hfmodels/wav2vec2-large-xlsr-53-russian/ were not used when initializing Wav2Vec2ForCTC: ['wav2vec2.encoder.pos_conv_embed.conv.weight_g', 'wav2vec2.encoder.pos_conv_embed.conv.weight_v']\n",
      "- This IS expected if you are initializing Wav2Vec2ForCTC from the checkpoint of a model trained on another task or with another architecture (e.g. initializing a BertForSequenceClassification model from a BertForPreTraining model).\n",
      "- This IS NOT expected if you are initializing Wav2Vec2ForCTC from the checkpoint of a model that you expect to be exactly identical (initializing a BertForSequenceClassification model from a BertForSequenceClassification model).\n",
      "Some weights of Wav2Vec2ForCTC were not initialized from the model checkpoint at /mnt/storage/kocharyan/hfmodels/wav2vec2-large-xlsr-53-russian/ and are newly initialized: ['wav2vec2.encoder.pos_conv_embed.conv.parametrizations.weight.original0', 'wav2vec2.encoder.pos_conv_embed.conv.parametrizations.weight.original1']\n",
      "You should probably TRAIN this model on a down-stream task to be able to use it for predictions and inference.\n"
     ]
    },
    {
     "name": "stdout",
     "output_type": "stream",
     "text": [
      "Warning: audio is shorter than 30s, language detection may be inaccurate.\n",
      "Detected language: ru (0.99) in first 30s of audio...\n",
      "DEBUG timesteps={0: ('скачок,', [range(4, 27)]), 1: ('который', [range(28, 44)]), 2: ('виден', [range(45, 57)]), 3: ('в', [range(57, 59)]), 4: ('начале', [range(60, 78)]), 5: ('графика.', [range(80, 105)])}\n",
      "DEBUG: model.decoder.target_vocab_size=103\n",
      "DEBUG: memory.shape=torch.Size([1, 36, 192])\n",
      "DEBUG: i=0\n",
      "DEBUG: src_emb.shape=torch.Size([1, 36, 192]) tgt_emb.shape=torch.Size([1, 1, 192])\n",
      "DEBUG: prob.shape=torch.Size([1, 1, 192])\n",
      "DEBUG: next_symb=68\n",
      "DEBUG: i=1\n",
      "DEBUG: src_emb.shape=torch.Size([1, 36, 192]) tgt_emb.shape=torch.Size([1, 2, 192])\n",
      "DEBUG: prob.shape=torch.Size([1, 2, 192])\n",
      "DEBUG: next_symb=68\n",
      "DEBUG: i=2\n",
      "DEBUG: src_emb.shape=torch.Size([1, 36, 192]) tgt_emb.shape=torch.Size([1, 3, 192])\n",
      "DEBUG: prob.shape=torch.Size([1, 3, 192])\n",
      "DEBUG: next_symb=68\n",
      "DEBUG: i=3\n",
      "DEBUG: src_emb.shape=torch.Size([1, 36, 192]) tgt_emb.shape=torch.Size([1, 4, 192])\n",
      "DEBUG: prob.shape=torch.Size([1, 4, 192])\n",
      "DEBUG: next_symb=68\n",
      "DEBUG: i=4\n",
      "DEBUG: src_emb.shape=torch.Size([1, 36, 192]) tgt_emb.shape=torch.Size([1, 5, 192])\n",
      "DEBUG: prob.shape=torch.Size([1, 5, 192])\n",
      "DEBUG: next_symb=68\n",
      "DEBUG: i=5\n",
      "DEBUG: src_emb.shape=torch.Size([1, 36, 192]) tgt_emb.shape=torch.Size([1, 6, 192])\n",
      "DEBUG: prob.shape=torch.Size([1, 6, 192])\n",
      "DEBUG: next_symb=68\n",
      "DEBUG: i=6\n",
      "DEBUG: src_emb.shape=torch.Size([1, 36, 192]) tgt_emb.shape=torch.Size([1, 7, 192])\n",
      "DEBUG: prob.shape=torch.Size([1, 7, 192])\n",
      "DEBUG: next_symb=68\n",
      "DEBUG: i=7\n",
      "DEBUG: src_emb.shape=torch.Size([1, 36, 192]) tgt_emb.shape=torch.Size([1, 8, 192])\n",
      "DEBUG: prob.shape=torch.Size([1, 8, 192])\n",
      "DEBUG: next_symb=68\n",
      "DEBUG: i=8\n",
      "DEBUG: src_emb.shape=torch.Size([1, 36, 192]) tgt_emb.shape=torch.Size([1, 9, 192])\n",
      "DEBUG: prob.shape=torch.Size([1, 9, 192])\n",
      "DEBUG: next_symb=68\n",
      "DEBUG: i=9\n",
      "DEBUG: src_emb.shape=torch.Size([1, 36, 192]) tgt_emb.shape=torch.Size([1, 10, 192])\n",
      "DEBUG: prob.shape=torch.Size([1, 10, 192])\n",
      "DEBUG: next_symb=68\n",
      "DEBUG: i=10\n",
      "DEBUG: src_emb.shape=torch.Size([1, 36, 192]) tgt_emb.shape=torch.Size([1, 11, 192])\n",
      "DEBUG: prob.shape=torch.Size([1, 11, 192])\n",
      "DEBUG: next_symb=68\n",
      "DEBUG: i=11\n",
      "DEBUG: src_emb.shape=torch.Size([1, 36, 192]) tgt_emb.shape=torch.Size([1, 12, 192])\n",
      "DEBUG: prob.shape=torch.Size([1, 12, 192])\n",
      "DEBUG: next_symb=68\n",
      "DEBUG: i=12\n",
      "DEBUG: src_emb.shape=torch.Size([1, 36, 192]) tgt_emb.shape=torch.Size([1, 13, 192])\n",
      "DEBUG: prob.shape=torch.Size([1, 13, 192])\n",
      "DEBUG: next_symb=68\n",
      "DEBUG: i=13\n",
      "DEBUG: src_emb.shape=torch.Size([1, 36, 192]) tgt_emb.shape=torch.Size([1, 14, 192])\n",
      "DEBUG: prob.shape=torch.Size([1, 14, 192])\n",
      "DEBUG: next_symb=68\n",
      "DEBUG: i=14\n",
      "DEBUG: src_emb.shape=torch.Size([1, 36, 192]) tgt_emb.shape=torch.Size([1, 15, 192])\n",
      "DEBUG: prob.shape=torch.Size([1, 15, 192])\n",
      "DEBUG: next_symb=68\n",
      "DEBUG: i=15\n",
      "DEBUG: src_emb.shape=torch.Size([1, 36, 192]) tgt_emb.shape=torch.Size([1, 16, 192])\n",
      "DEBUG: prob.shape=torch.Size([1, 16, 192])\n",
      "DEBUG: next_symb=68\n",
      "DEBUG: i=16\n",
      "DEBUG: src_emb.shape=torch.Size([1, 36, 192]) tgt_emb.shape=torch.Size([1, 17, 192])\n",
      "DEBUG: prob.shape=torch.Size([1, 17, 192])\n",
      "DEBUG: next_symb=68\n",
      "DEBUG: i=17\n",
      "DEBUG: src_emb.shape=torch.Size([1, 36, 192]) tgt_emb.shape=torch.Size([1, 18, 192])\n",
      "DEBUG: prob.shape=torch.Size([1, 18, 192])\n",
      "DEBUG: next_symb=68\n",
      "DEBUG: i=18\n",
      "DEBUG: src_emb.shape=torch.Size([1, 36, 192]) tgt_emb.shape=torch.Size([1, 19, 192])\n",
      "DEBUG: prob.shape=torch.Size([1, 19, 192])\n",
      "DEBUG: next_symb=68\n",
      "DEBUG: i=19\n",
      "DEBUG: src_emb.shape=torch.Size([1, 36, 192]) tgt_emb.shape=torch.Size([1, 20, 192])\n",
      "DEBUG: prob.shape=torch.Size([1, 20, 192])\n",
      "DEBUG: next_symb=68\n",
      "DEBUG: i=20\n",
      "DEBUG: src_emb.shape=torch.Size([1, 36, 192]) tgt_emb.shape=torch.Size([1, 21, 192])\n",
      "DEBUG: prob.shape=torch.Size([1, 21, 192])\n",
      "DEBUG: next_symb=68\n",
      "DEBUG: i=21\n",
      "DEBUG: src_emb.shape=torch.Size([1, 36, 192]) tgt_emb.shape=torch.Size([1, 22, 192])\n",
      "DEBUG: prob.shape=torch.Size([1, 22, 192])\n",
      "DEBUG: next_symb=68\n",
      "DEBUG: i=22\n",
      "DEBUG: src_emb.shape=torch.Size([1, 36, 192]) tgt_emb.shape=torch.Size([1, 23, 192])\n",
      "DEBUG: prob.shape=torch.Size([1, 23, 192])\n",
      "DEBUG: next_symb=68\n",
      "DEBUG: i=23\n",
      "DEBUG: src_emb.shape=torch.Size([1, 36, 192]) tgt_emb.shape=torch.Size([1, 24, 192])\n",
      "DEBUG: prob.shape=torch.Size([1, 24, 192])\n",
      "DEBUG: next_symb=68\n",
      "DEBUG: i=24\n",
      "DEBUG: src_emb.shape=torch.Size([1, 36, 192]) tgt_emb.shape=torch.Size([1, 25, 192])\n",
      "DEBUG: prob.shape=torch.Size([1, 25, 192])\n",
      "DEBUG: next_symb=68\n",
      "DEBUG: i=25\n",
      "DEBUG: src_emb.shape=torch.Size([1, 36, 192]) tgt_emb.shape=torch.Size([1, 26, 192])\n",
      "DEBUG: prob.shape=torch.Size([1, 26, 192])\n",
      "DEBUG: next_symb=68\n",
      "DEBUG: i=26\n",
      "DEBUG: src_emb.shape=torch.Size([1, 36, 192]) tgt_emb.shape=torch.Size([1, 27, 192])\n",
      "DEBUG: prob.shape=torch.Size([1, 27, 192])\n",
      "DEBUG: next_symb=68\n",
      "DEBUG: i=27\n",
      "DEBUG: src_emb.shape=torch.Size([1, 36, 192]) tgt_emb.shape=torch.Size([1, 28, 192])\n",
      "DEBUG: prob.shape=torch.Size([1, 28, 192])\n",
      "DEBUG: next_symb=68\n",
      "DEBUG: i=28\n",
      "DEBUG: src_emb.shape=torch.Size([1, 36, 192]) tgt_emb.shape=torch.Size([1, 29, 192])\n",
      "DEBUG: prob.shape=torch.Size([1, 29, 192])\n",
      "DEBUG: next_symb=68\n",
      "DEBUG: i=29\n",
      "DEBUG: src_emb.shape=torch.Size([1, 36, 192]) tgt_emb.shape=torch.Size([1, 30, 192])\n",
      "DEBUG: prob.shape=torch.Size([1, 30, 192])\n",
      "DEBUG: next_symb=68\n",
      "DEBUG: i=30\n",
      "DEBUG: src_emb.shape=torch.Size([1, 36, 192]) tgt_emb.shape=torch.Size([1, 31, 192])\n",
      "DEBUG: prob.shape=torch.Size([1, 31, 192])\n",
      "DEBUG: next_symb=68\n",
      "DEBUG: i=31\n",
      "DEBUG: src_emb.shape=torch.Size([1, 36, 192]) tgt_emb.shape=torch.Size([1, 32, 192])\n",
      "DEBUG: prob.shape=torch.Size([1, 32, 192])\n",
      "DEBUG: next_symb=68\n",
      "DEBUG: i=32\n",
      "DEBUG: src_emb.shape=torch.Size([1, 36, 192]) tgt_emb.shape=torch.Size([1, 33, 192])\n",
      "DEBUG: prob.shape=torch.Size([1, 33, 192])\n",
      "DEBUG: next_symb=68\n",
      "DEBUG: i=33\n",
      "DEBUG: src_emb.shape=torch.Size([1, 36, 192]) tgt_emb.shape=torch.Size([1, 34, 192])\n",
      "DEBUG: prob.shape=torch.Size([1, 34, 192])\n",
      "DEBUG: next_symb=68\n",
      "DEBUG: i=34\n",
      "DEBUG: src_emb.shape=torch.Size([1, 36, 192]) tgt_emb.shape=torch.Size([1, 35, 192])\n",
      "DEBUG: prob.shape=torch.Size([1, 35, 192])\n",
      "DEBUG: next_symb=68\n",
      "DEBUG: i=35\n",
      "DEBUG: src_emb.shape=torch.Size([1, 36, 192]) tgt_emb.shape=torch.Size([1, 36, 192])\n",
      "DEBUG: prob.shape=torch.Size([1, 36, 192])\n",
      "DEBUG: next_symb=68\n",
      "DEBUG: i=36\n",
      "DEBUG: src_emb.shape=torch.Size([1, 36, 192]) tgt_emb.shape=torch.Size([1, 37, 192])\n",
      "DEBUG: prob.shape=torch.Size([1, 37, 192])\n",
      "DEBUG: next_symb=68\n",
      "DEBUG: i=37\n",
      "DEBUG: src_emb.shape=torch.Size([1, 36, 192]) tgt_emb.shape=torch.Size([1, 38, 192])\n",
      "DEBUG: prob.shape=torch.Size([1, 38, 192])\n",
      "DEBUG: next_symb=68\n",
      "DEBUG: i=38\n",
      "DEBUG: src_emb.shape=torch.Size([1, 36, 192]) tgt_emb.shape=torch.Size([1, 39, 192])\n",
      "DEBUG: prob.shape=torch.Size([1, 39, 192])\n",
      "DEBUG: next_symb=68\n",
      "DEBUG: i=39\n",
      "DEBUG: src_emb.shape=torch.Size([1, 36, 192]) tgt_emb.shape=torch.Size([1, 40, 192])\n",
      "DEBUG: prob.shape=torch.Size([1, 40, 192])\n",
      "DEBUG: next_symb=68\n",
      "DEBUG: i=40\n",
      "DEBUG: src_emb.shape=torch.Size([1, 36, 192]) tgt_emb.shape=torch.Size([1, 41, 192])\n",
      "DEBUG: prob.shape=torch.Size([1, 41, 192])\n",
      "DEBUG: next_symb=68\n",
      "DEBUG: i=41\n",
      "DEBUG: src_emb.shape=torch.Size([1, 36, 192]) tgt_emb.shape=torch.Size([1, 42, 192])\n",
      "DEBUG: prob.shape=torch.Size([1, 42, 192])\n",
      "DEBUG: next_symb=68\n",
      "DEBUG: i=42\n",
      "DEBUG: src_emb.shape=torch.Size([1, 36, 192]) tgt_emb.shape=torch.Size([1, 43, 192])\n",
      "DEBUG: prob.shape=torch.Size([1, 43, 192])\n",
      "DEBUG: next_symb=68\n",
      "DEBUG: i=43\n",
      "DEBUG: src_emb.shape=torch.Size([1, 36, 192]) tgt_emb.shape=torch.Size([1, 44, 192])\n",
      "DEBUG: prob.shape=torch.Size([1, 44, 192])\n",
      "DEBUG: next_symb=68\n",
      "DEBUG: i=44\n",
      "DEBUG: src_emb.shape=torch.Size([1, 36, 192]) tgt_emb.shape=torch.Size([1, 45, 192])\n",
      "DEBUG: prob.shape=torch.Size([1, 45, 192])\n",
      "DEBUG: next_symb=68\n",
      "DEBUG: i=45\n",
      "DEBUG: src_emb.shape=torch.Size([1, 36, 192]) tgt_emb.shape=torch.Size([1, 46, 192])\n",
      "DEBUG: prob.shape=torch.Size([1, 46, 192])\n",
      "DEBUG: next_symb=68\n",
      "DEBUG: i=46\n",
      "DEBUG: src_emb.shape=torch.Size([1, 36, 192]) tgt_emb.shape=torch.Size([1, 47, 192])\n",
      "DEBUG: prob.shape=torch.Size([1, 47, 192])\n",
      "DEBUG: next_symb=68\n",
      "DEBUG: i=47\n",
      "DEBUG: src_emb.shape=torch.Size([1, 36, 192]) tgt_emb.shape=torch.Size([1, 48, 192])\n",
      "DEBUG: prob.shape=torch.Size([1, 48, 192])\n",
      "DEBUG: next_symb=68\n",
      "DEBUG: i=48\n",
      "DEBUG: src_emb.shape=torch.Size([1, 36, 192]) tgt_emb.shape=torch.Size([1, 49, 192])\n",
      "DEBUG: prob.shape=torch.Size([1, 49, 192])\n",
      "DEBUG: next_symb=68\n",
      "DEBUG: i=49\n",
      "DEBUG: src_emb.shape=torch.Size([1, 36, 192]) tgt_emb.shape=torch.Size([1, 50, 192])\n",
      "DEBUG: prob.shape=torch.Size([1, 50, 192])\n",
      "DEBUG: next_symb=68\n",
      "DEBUG: i=50\n",
      "DEBUG: src_emb.shape=torch.Size([1, 36, 192]) tgt_emb.shape=torch.Size([1, 51, 192])\n",
      "DEBUG: prob.shape=torch.Size([1, 51, 192])\n",
      "DEBUG: next_symb=68\n",
      "DEBUG: i=51\n",
      "DEBUG: src_emb.shape=torch.Size([1, 36, 192]) tgt_emb.shape=torch.Size([1, 52, 192])\n",
      "DEBUG: prob.shape=torch.Size([1, 52, 192])\n",
      "DEBUG: next_symb=68\n",
      "DEBUG: i=52\n",
      "DEBUG: src_emb.shape=torch.Size([1, 36, 192]) tgt_emb.shape=torch.Size([1, 53, 192])\n",
      "DEBUG: prob.shape=torch.Size([1, 53, 192])\n",
      "DEBUG: next_symb=68\n",
      "DEBUG: i=53\n",
      "DEBUG: src_emb.shape=torch.Size([1, 36, 192]) tgt_emb.shape=torch.Size([1, 54, 192])\n",
      "DEBUG: prob.shape=torch.Size([1, 54, 192])\n",
      "DEBUG: next_symb=68\n",
      "DEBUG: i=54\n",
      "DEBUG: src_emb.shape=torch.Size([1, 36, 192]) tgt_emb.shape=torch.Size([1, 55, 192])\n",
      "DEBUG: prob.shape=torch.Size([1, 55, 192])\n",
      "DEBUG: next_symb=68\n",
      "DEBUG: i=55\n",
      "DEBUG: src_emb.shape=torch.Size([1, 36, 192]) tgt_emb.shape=torch.Size([1, 56, 192])\n",
      "DEBUG: prob.shape=torch.Size([1, 56, 192])\n",
      "DEBUG: next_symb=68\n",
      "DEBUG: i=56\n",
      "DEBUG: src_emb.shape=torch.Size([1, 36, 192]) tgt_emb.shape=torch.Size([1, 57, 192])\n",
      "DEBUG: prob.shape=torch.Size([1, 57, 192])\n",
      "DEBUG: next_symb=68\n",
      "DEBUG: i=57\n",
      "DEBUG: src_emb.shape=torch.Size([1, 36, 192]) tgt_emb.shape=torch.Size([1, 58, 192])\n",
      "DEBUG: prob.shape=torch.Size([1, 58, 192])\n",
      "DEBUG: next_symb=68\n",
      "DEBUG: i=58\n",
      "DEBUG: src_emb.shape=torch.Size([1, 36, 192]) tgt_emb.shape=torch.Size([1, 59, 192])\n",
      "DEBUG: prob.shape=torch.Size([1, 59, 192])\n",
      "DEBUG: next_symb=68\n",
      "DEBUG: i=59\n",
      "DEBUG: src_emb.shape=torch.Size([1, 36, 192]) tgt_emb.shape=torch.Size([1, 60, 192])\n",
      "DEBUG: prob.shape=torch.Size([1, 60, 192])\n",
      "DEBUG: next_symb=68\n",
      "DEBUG: i=60\n",
      "DEBUG: src_emb.shape=torch.Size([1, 36, 192]) tgt_emb.shape=torch.Size([1, 61, 192])\n",
      "DEBUG: prob.shape=torch.Size([1, 61, 192])\n",
      "DEBUG: next_symb=68\n",
      "DEBUG: i=61\n",
      "DEBUG: src_emb.shape=torch.Size([1, 36, 192]) tgt_emb.shape=torch.Size([1, 62, 192])\n",
      "DEBUG: prob.shape=torch.Size([1, 62, 192])\n",
      "DEBUG: next_symb=68\n",
      "DEBUG: i=62\n",
      "DEBUG: src_emb.shape=torch.Size([1, 36, 192]) tgt_emb.shape=torch.Size([1, 63, 192])\n",
      "DEBUG: prob.shape=torch.Size([1, 63, 192])\n",
      "DEBUG: next_symb=68\n",
      "DEBUG: i=63\n",
      "DEBUG: src_emb.shape=torch.Size([1, 36, 192]) tgt_emb.shape=torch.Size([1, 64, 192])\n",
      "DEBUG: prob.shape=torch.Size([1, 64, 192])\n",
      "DEBUG: next_symb=68\n",
      "DEBUG: i=64\n",
      "DEBUG: src_emb.shape=torch.Size([1, 36, 192]) tgt_emb.shape=torch.Size([1, 65, 192])\n",
      "DEBUG: prob.shape=torch.Size([1, 65, 192])\n",
      "DEBUG: next_symb=68\n",
      "DEBUG: i=65\n",
      "DEBUG: src_emb.shape=torch.Size([1, 36, 192]) tgt_emb.shape=torch.Size([1, 66, 192])\n",
      "DEBUG: prob.shape=torch.Size([1, 66, 192])\n",
      "DEBUG: next_symb=68\n",
      "DEBUG: i=66\n",
      "DEBUG: src_emb.shape=torch.Size([1, 36, 192]) tgt_emb.shape=torch.Size([1, 67, 192])\n",
      "DEBUG: prob.shape=torch.Size([1, 67, 192])\n",
      "DEBUG: next_symb=68\n",
      "DEBUG: i=67\n",
      "DEBUG: src_emb.shape=torch.Size([1, 36, 192]) tgt_emb.shape=torch.Size([1, 68, 192])\n",
      "DEBUG: prob.shape=torch.Size([1, 68, 192])\n",
      "DEBUG: next_symb=68\n",
      "DEBUG: i=68\n",
      "DEBUG: src_emb.shape=torch.Size([1, 36, 192]) tgt_emb.shape=torch.Size([1, 69, 192])\n",
      "DEBUG: prob.shape=torch.Size([1, 69, 192])\n",
      "DEBUG: next_symb=68\n",
      "DEBUG: i=69\n",
      "DEBUG: src_emb.shape=torch.Size([1, 36, 192]) tgt_emb.shape=torch.Size([1, 70, 192])\n",
      "DEBUG: prob.shape=torch.Size([1, 70, 192])\n",
      "DEBUG: next_symb=68\n",
      "DEBUG: i=70\n",
      "DEBUG: src_emb.shape=torch.Size([1, 36, 192]) tgt_emb.shape=torch.Size([1, 71, 192])\n",
      "DEBUG: prob.shape=torch.Size([1, 71, 192])\n",
      "DEBUG: next_symb=68\n",
      "DEBUG: i=71\n",
      "DEBUG: src_emb.shape=torch.Size([1, 36, 192]) tgt_emb.shape=torch.Size([1, 72, 192])\n",
      "DEBUG: prob.shape=torch.Size([1, 72, 192])\n",
      "DEBUG: next_symb=68\n",
      "DEBUG: i=72\n",
      "DEBUG: src_emb.shape=torch.Size([1, 36, 192]) tgt_emb.shape=torch.Size([1, 73, 192])\n",
      "DEBUG: prob.shape=torch.Size([1, 73, 192])\n",
      "DEBUG: next_symb=68\n",
      "DEBUG: i=73\n",
      "DEBUG: src_emb.shape=torch.Size([1, 36, 192]) tgt_emb.shape=torch.Size([1, 74, 192])\n",
      "DEBUG: prob.shape=torch.Size([1, 74, 192])\n",
      "DEBUG: next_symb=68\n",
      "DEBUG: i=74\n",
      "DEBUG: src_emb.shape=torch.Size([1, 36, 192]) tgt_emb.shape=torch.Size([1, 75, 192])\n",
      "DEBUG: prob.shape=torch.Size([1, 75, 192])\n",
      "DEBUG: next_symb=68\n",
      "DEBUG: i=75\n",
      "DEBUG: src_emb.shape=torch.Size([1, 36, 192]) tgt_emb.shape=torch.Size([1, 76, 192])\n",
      "DEBUG: prob.shape=torch.Size([1, 76, 192])\n",
      "DEBUG: next_symb=68\n",
      "DEBUG: i=76\n",
      "DEBUG: src_emb.shape=torch.Size([1, 36, 192]) tgt_emb.shape=torch.Size([1, 77, 192])\n",
      "DEBUG: prob.shape=torch.Size([1, 77, 192])\n",
      "DEBUG: next_symb=68\n",
      "DEBUG: i=77\n",
      "DEBUG: src_emb.shape=torch.Size([1, 36, 192]) tgt_emb.shape=torch.Size([1, 78, 192])\n",
      "DEBUG: prob.shape=torch.Size([1, 78, 192])\n",
      "DEBUG: next_symb=68\n",
      "DEBUG: i=78\n",
      "DEBUG: src_emb.shape=torch.Size([1, 36, 192]) tgt_emb.shape=torch.Size([1, 79, 192])\n",
      "DEBUG: prob.shape=torch.Size([1, 79, 192])\n",
      "DEBUG: next_symb=68\n",
      "DEBUG: i=79\n",
      "DEBUG: src_emb.shape=torch.Size([1, 36, 192]) tgt_emb.shape=torch.Size([1, 80, 192])\n",
      "DEBUG: prob.shape=torch.Size([1, 80, 192])\n",
      "DEBUG: next_symb=68\n",
      "DEBUG: i=80\n",
      "DEBUG: src_emb.shape=torch.Size([1, 36, 192]) tgt_emb.shape=torch.Size([1, 81, 192])\n",
      "DEBUG: prob.shape=torch.Size([1, 81, 192])\n",
      "DEBUG: next_symb=68\n",
      "DEBUG: i=81\n",
      "DEBUG: src_emb.shape=torch.Size([1, 36, 192]) tgt_emb.shape=torch.Size([1, 82, 192])\n",
      "DEBUG: prob.shape=torch.Size([1, 82, 192])\n",
      "DEBUG: next_symb=68\n",
      "DEBUG: i=82\n",
      "DEBUG: src_emb.shape=torch.Size([1, 36, 192]) tgt_emb.shape=torch.Size([1, 83, 192])\n",
      "DEBUG: prob.shape=torch.Size([1, 83, 192])\n",
      "DEBUG: next_symb=68\n",
      "DEBUG: i=83\n",
      "DEBUG: src_emb.shape=torch.Size([1, 36, 192]) tgt_emb.shape=torch.Size([1, 84, 192])\n",
      "DEBUG: prob.shape=torch.Size([1, 84, 192])\n",
      "DEBUG: next_symb=68\n",
      "DEBUG: i=84\n",
      "DEBUG: src_emb.shape=torch.Size([1, 36, 192]) tgt_emb.shape=torch.Size([1, 85, 192])\n",
      "DEBUG: prob.shape=torch.Size([1, 85, 192])\n",
      "DEBUG: next_symb=68\n",
      "DEBUG: i=85\n",
      "DEBUG: src_emb.shape=torch.Size([1, 36, 192]) tgt_emb.shape=torch.Size([1, 86, 192])\n",
      "DEBUG: prob.shape=torch.Size([1, 86, 192])\n",
      "DEBUG: next_symb=68\n",
      "DEBUG: i=86\n",
      "DEBUG: src_emb.shape=torch.Size([1, 36, 192]) tgt_emb.shape=torch.Size([1, 87, 192])\n",
      "DEBUG: prob.shape=torch.Size([1, 87, 192])\n",
      "DEBUG: next_symb=68\n",
      "DEBUG: i=87\n",
      "DEBUG: src_emb.shape=torch.Size([1, 36, 192]) tgt_emb.shape=torch.Size([1, 88, 192])\n",
      "DEBUG: prob.shape=torch.Size([1, 88, 192])\n",
      "DEBUG: next_symb=68\n",
      "DEBUG: i=88\n",
      "DEBUG: src_emb.shape=torch.Size([1, 36, 192]) tgt_emb.shape=torch.Size([1, 89, 192])\n",
      "DEBUG: prob.shape=torch.Size([1, 89, 192])\n",
      "DEBUG: next_symb=68\n",
      "DEBUG: i=89\n",
      "DEBUG: src_emb.shape=torch.Size([1, 36, 192]) tgt_emb.shape=torch.Size([1, 90, 192])\n",
      "DEBUG: prob.shape=torch.Size([1, 90, 192])\n",
      "DEBUG: next_symb=68\n",
      "DEBUG: i=90\n",
      "DEBUG: src_emb.shape=torch.Size([1, 36, 192]) tgt_emb.shape=torch.Size([1, 91, 192])\n",
      "DEBUG: prob.shape=torch.Size([1, 91, 192])\n",
      "DEBUG: next_symb=68\n",
      "DEBUG: i=91\n",
      "DEBUG: src_emb.shape=torch.Size([1, 36, 192]) tgt_emb.shape=torch.Size([1, 92, 192])\n",
      "DEBUG: prob.shape=torch.Size([1, 92, 192])\n",
      "DEBUG: next_symb=68\n",
      "DEBUG: i=92\n",
      "DEBUG: src_emb.shape=torch.Size([1, 36, 192]) tgt_emb.shape=torch.Size([1, 93, 192])\n",
      "DEBUG: prob.shape=torch.Size([1, 93, 192])\n",
      "DEBUG: next_symb=68\n",
      "DEBUG: i=93\n",
      "DEBUG: src_emb.shape=torch.Size([1, 36, 192]) tgt_emb.shape=torch.Size([1, 94, 192])\n",
      "DEBUG: prob.shape=torch.Size([1, 94, 192])\n",
      "DEBUG: next_symb=68\n",
      "DEBUG: i=94\n",
      "DEBUG: src_emb.shape=torch.Size([1, 36, 192]) tgt_emb.shape=torch.Size([1, 95, 192])\n",
      "DEBUG: prob.shape=torch.Size([1, 95, 192])\n",
      "DEBUG: next_symb=68\n",
      "DEBUG: i=95\n",
      "DEBUG: src_emb.shape=torch.Size([1, 36, 192]) tgt_emb.shape=torch.Size([1, 96, 192])\n",
      "DEBUG: prob.shape=torch.Size([1, 96, 192])\n",
      "DEBUG: next_symb=68\n",
      "DEBUG: i=96\n",
      "DEBUG: src_emb.shape=torch.Size([1, 36, 192]) tgt_emb.shape=torch.Size([1, 97, 192])\n",
      "DEBUG: prob.shape=torch.Size([1, 97, 192])\n",
      "DEBUG: next_symb=68\n",
      "DEBUG: i=97\n",
      "DEBUG: src_emb.shape=torch.Size([1, 36, 192]) tgt_emb.shape=torch.Size([1, 98, 192])\n",
      "DEBUG: prob.shape=torch.Size([1, 98, 192])\n",
      "DEBUG: next_symb=68\n",
      "DEBUG: i=98\n",
      "DEBUG: src_emb.shape=torch.Size([1, 36, 192]) tgt_emb.shape=torch.Size([1, 99, 192])\n",
      "DEBUG: prob.shape=torch.Size([1, 99, 192])\n",
      "DEBUG: next_symb=68\n",
      "DEBUG: i=99\n",
      "DEBUG: src_emb.shape=torch.Size([1, 36, 192]) tgt_emb.shape=torch.Size([1, 100, 192])\n",
      "DEBUG: prob.shape=torch.Size([1, 100, 192])\n",
      "DEBUG: next_symb=68\n",
      "DEBUG: i=100\n",
      "DEBUG: src_emb.shape=torch.Size([1, 36, 192]) tgt_emb.shape=torch.Size([1, 101, 192])\n",
      "DEBUG: prob.shape=torch.Size([1, 101, 192])\n",
      "DEBUG: next_symb=68\n",
      "DEBUG: i=101\n",
      "DEBUG: src_emb.shape=torch.Size([1, 36, 192]) tgt_emb.shape=torch.Size([1, 102, 192])\n",
      "DEBUG: prob.shape=torch.Size([1, 102, 192])\n",
      "DEBUG: next_symb=68\n",
      "DEBUG: i=102\n",
      "DEBUG: src_emb.shape=torch.Size([1, 36, 192]) tgt_emb.shape=torch.Size([1, 103, 192])\n",
      "DEBUG: prob.shape=torch.Size([1, 103, 192])\n",
      "DEBUG: next_symb=68\n",
      "DEBUG: i=103\n",
      "DEBUG: src_emb.shape=torch.Size([1, 36, 192]) tgt_emb.shape=torch.Size([1, 104, 192])\n",
      "DEBUG: prob.shape=torch.Size([1, 104, 192])\n",
      "DEBUG: next_symb=68\n",
      "DEBUG: i=104\n",
      "DEBUG: src_emb.shape=torch.Size([1, 36, 192]) tgt_emb.shape=torch.Size([1, 105, 192])\n",
      "DEBUG: prob.shape=torch.Size([1, 105, 192])\n",
      "DEBUG: next_symb=68\n",
      "DEBUG: i=105\n",
      "DEBUG: src_emb.shape=torch.Size([1, 36, 192]) tgt_emb.shape=torch.Size([1, 106, 192])\n",
      "DEBUG: prob.shape=torch.Size([1, 106, 192])\n",
      "DEBUG: next_symb=68\n",
      "DEBUG: i=106\n",
      "DEBUG: src_emb.shape=torch.Size([1, 36, 192]) tgt_emb.shape=torch.Size([1, 107, 192])\n",
      "DEBUG: prob.shape=torch.Size([1, 107, 192])\n",
      "DEBUG: next_symb=68\n",
      "DEBUG: i=107\n",
      "DEBUG: src_emb.shape=torch.Size([1, 36, 192]) tgt_emb.shape=torch.Size([1, 108, 192])\n",
      "DEBUG: prob.shape=torch.Size([1, 108, 192])\n",
      "DEBUG: next_symb=68\n",
      "DEBUG: i=108\n",
      "DEBUG: src_emb.shape=torch.Size([1, 36, 192]) tgt_emb.shape=torch.Size([1, 109, 192])\n",
      "DEBUG: prob.shape=torch.Size([1, 109, 192])\n",
      "DEBUG: next_symb=68\n",
      "DEBUG: i=109\n",
      "DEBUG: src_emb.shape=torch.Size([1, 36, 192]) tgt_emb.shape=torch.Size([1, 110, 192])\n",
      "DEBUG: prob.shape=torch.Size([1, 110, 192])\n",
      "DEBUG: next_symb=68\n",
      "DEBUG: i=110\n",
      "DEBUG: src_emb.shape=torch.Size([1, 36, 192]) tgt_emb.shape=torch.Size([1, 111, 192])\n",
      "DEBUG: prob.shape=torch.Size([1, 111, 192])\n",
      "DEBUG: next_symb=68\n",
      "DEBUG: i=111\n",
      "DEBUG: src_emb.shape=torch.Size([1, 36, 192]) tgt_emb.shape=torch.Size([1, 112, 192])\n",
      "DEBUG: prob.shape=torch.Size([1, 112, 192])\n",
      "DEBUG: next_symb=68\n",
      "DEBUG: i=112\n",
      "DEBUG: src_emb.shape=torch.Size([1, 36, 192]) tgt_emb.shape=torch.Size([1, 113, 192])\n",
      "DEBUG: prob.shape=torch.Size([1, 113, 192])\n",
      "DEBUG: next_symb=68\n",
      "DEBUG: i=113\n",
      "DEBUG: src_emb.shape=torch.Size([1, 36, 192]) tgt_emb.shape=torch.Size([1, 114, 192])\n",
      "DEBUG: prob.shape=torch.Size([1, 114, 192])\n",
      "DEBUG: next_symb=68\n",
      "DEBUG: i=114\n",
      "DEBUG: src_emb.shape=torch.Size([1, 36, 192]) tgt_emb.shape=torch.Size([1, 115, 192])\n",
      "DEBUG: prob.shape=torch.Size([1, 115, 192])\n",
      "DEBUG: next_symb=68\n",
      "DEBUG: i=115\n",
      "DEBUG: src_emb.shape=torch.Size([1, 36, 192]) tgt_emb.shape=torch.Size([1, 116, 192])\n",
      "DEBUG: prob.shape=torch.Size([1, 116, 192])\n",
      "DEBUG: next_symb=68\n",
      "DEBUG: i=116\n",
      "DEBUG: src_emb.shape=torch.Size([1, 36, 192]) tgt_emb.shape=torch.Size([1, 117, 192])\n",
      "DEBUG: prob.shape=torch.Size([1, 117, 192])\n",
      "DEBUG: next_symb=68\n",
      "DEBUG: i=117\n",
      "DEBUG: src_emb.shape=torch.Size([1, 36, 192]) tgt_emb.shape=torch.Size([1, 118, 192])\n",
      "DEBUG: prob.shape=torch.Size([1, 118, 192])\n",
      "DEBUG: next_symb=68\n",
      "DEBUG: i=118\n",
      "DEBUG: src_emb.shape=torch.Size([1, 36, 192]) tgt_emb.shape=torch.Size([1, 119, 192])\n",
      "DEBUG: prob.shape=torch.Size([1, 119, 192])\n",
      "DEBUG: next_symb=68\n",
      "DEBUG: i=119\n",
      "DEBUG: src_emb.shape=torch.Size([1, 36, 192]) tgt_emb.shape=torch.Size([1, 120, 192])\n",
      "DEBUG: prob.shape=torch.Size([1, 120, 192])\n",
      "DEBUG: next_symb=68\n",
      "DEBUG: i=120\n",
      "DEBUG: src_emb.shape=torch.Size([1, 36, 192]) tgt_emb.shape=torch.Size([1, 121, 192])\n",
      "DEBUG: prob.shape=torch.Size([1, 121, 192])\n",
      "DEBUG: next_symb=68\n",
      "DEBUG: i=121\n",
      "DEBUG: src_emb.shape=torch.Size([1, 36, 192]) tgt_emb.shape=torch.Size([1, 122, 192])\n",
      "DEBUG: prob.shape=torch.Size([1, 122, 192])\n",
      "DEBUG: next_symb=68\n",
      "DEBUG: i=122\n",
      "DEBUG: src_emb.shape=torch.Size([1, 36, 192]) tgt_emb.shape=torch.Size([1, 123, 192])\n",
      "DEBUG: prob.shape=torch.Size([1, 123, 192])\n",
      "DEBUG: next_symb=68\n",
      "DEBUG: i=123\n",
      "DEBUG: src_emb.shape=torch.Size([1, 36, 192]) tgt_emb.shape=torch.Size([1, 124, 192])\n",
      "DEBUG: prob.shape=torch.Size([1, 124, 192])\n",
      "DEBUG: next_symb=68\n",
      "DEBUG: i=124\n",
      "DEBUG: src_emb.shape=torch.Size([1, 36, 192]) tgt_emb.shape=torch.Size([1, 125, 192])\n",
      "DEBUG: prob.shape=torch.Size([1, 125, 192])\n",
      "DEBUG: next_symb=68\n",
      "DEBUG: i=125\n",
      "DEBUG: src_emb.shape=torch.Size([1, 36, 192]) tgt_emb.shape=torch.Size([1, 126, 192])\n",
      "DEBUG: prob.shape=torch.Size([1, 126, 192])\n",
      "DEBUG: next_symb=68\n",
      "DEBUG: i=126\n",
      "DEBUG: src_emb.shape=torch.Size([1, 36, 192]) tgt_emb.shape=torch.Size([1, 127, 192])\n",
      "DEBUG: prob.shape=torch.Size([1, 127, 192])\n",
      "DEBUG: next_symb=68\n",
      "DEBUG: i=127\n",
      "DEBUG: src_emb.shape=torch.Size([1, 36, 192]) tgt_emb.shape=torch.Size([1, 128, 192])\n",
      "DEBUG: prob.shape=torch.Size([1, 128, 192])\n",
      "DEBUG: next_symb=68\n",
      "DEBUG: i=128\n",
      "DEBUG: src_emb.shape=torch.Size([1, 36, 192]) tgt_emb.shape=torch.Size([1, 129, 192])\n",
      "DEBUG: prob.shape=torch.Size([1, 129, 192])\n",
      "DEBUG: next_symb=68\n",
      "DEBUG: i=129\n",
      "DEBUG: src_emb.shape=torch.Size([1, 36, 192]) tgt_emb.shape=torch.Size([1, 130, 192])\n",
      "DEBUG: prob.shape=torch.Size([1, 130, 192])\n",
      "DEBUG: next_symb=68\n",
      "DEBUG: i=130\n",
      "DEBUG: src_emb.shape=torch.Size([1, 36, 192]) tgt_emb.shape=torch.Size([1, 131, 192])\n",
      "DEBUG: prob.shape=torch.Size([1, 131, 192])\n",
      "DEBUG: next_symb=68\n",
      "DEBUG: i=131\n",
      "DEBUG: src_emb.shape=torch.Size([1, 36, 192]) tgt_emb.shape=torch.Size([1, 132, 192])\n",
      "DEBUG: prob.shape=torch.Size([1, 132, 192])\n",
      "DEBUG: next_symb=68\n",
      "DEBUG: i=132\n",
      "DEBUG: src_emb.shape=torch.Size([1, 36, 192]) tgt_emb.shape=torch.Size([1, 133, 192])\n",
      "DEBUG: prob.shape=torch.Size([1, 133, 192])\n",
      "DEBUG: next_symb=68\n",
      "DEBUG: i=133\n",
      "DEBUG: src_emb.shape=torch.Size([1, 36, 192]) tgt_emb.shape=torch.Size([1, 134, 192])\n",
      "DEBUG: prob.shape=torch.Size([1, 134, 192])\n",
      "DEBUG: next_symb=68\n",
      "DEBUG: i=134\n",
      "DEBUG: src_emb.shape=torch.Size([1, 36, 192]) tgt_emb.shape=torch.Size([1, 135, 192])\n",
      "DEBUG: prob.shape=torch.Size([1, 135, 192])\n",
      "DEBUG: next_symb=68\n",
      "DEBUG: i=135\n",
      "DEBUG: src_emb.shape=torch.Size([1, 36, 192]) tgt_emb.shape=torch.Size([1, 136, 192])\n",
      "DEBUG: prob.shape=torch.Size([1, 136, 192])\n",
      "DEBUG: next_symb=68\n",
      "DEBUG: i=136\n",
      "DEBUG: src_emb.shape=torch.Size([1, 36, 192]) tgt_emb.shape=torch.Size([1, 137, 192])\n",
      "DEBUG: prob.shape=torch.Size([1, 137, 192])\n",
      "DEBUG: next_symb=68\n",
      "DEBUG: i=137\n",
      "DEBUG: src_emb.shape=torch.Size([1, 36, 192]) tgt_emb.shape=torch.Size([1, 138, 192])\n",
      "DEBUG: prob.shape=torch.Size([1, 138, 192])\n",
      "DEBUG: next_symb=68\n",
      "DEBUG: i=138\n",
      "DEBUG: src_emb.shape=torch.Size([1, 36, 192]) tgt_emb.shape=torch.Size([1, 139, 192])\n",
      "DEBUG: prob.shape=torch.Size([1, 139, 192])\n",
      "DEBUG: next_symb=68\n",
      "DEBUG: i=139\n",
      "DEBUG: src_emb.shape=torch.Size([1, 36, 192]) tgt_emb.shape=torch.Size([1, 140, 192])\n",
      "DEBUG: prob.shape=torch.Size([1, 140, 192])\n",
      "DEBUG: next_symb=68\n",
      "DEBUG: i=140\n",
      "DEBUG: src_emb.shape=torch.Size([1, 36, 192]) tgt_emb.shape=torch.Size([1, 141, 192])\n",
      "DEBUG: prob.shape=torch.Size([1, 141, 192])\n",
      "DEBUG: next_symb=68\n",
      "DEBUG: i=141\n",
      "DEBUG: src_emb.shape=torch.Size([1, 36, 192]) tgt_emb.shape=torch.Size([1, 142, 192])\n",
      "DEBUG: prob.shape=torch.Size([1, 142, 192])\n",
      "DEBUG: next_symb=68\n",
      "DEBUG: i=142\n",
      "DEBUG: src_emb.shape=torch.Size([1, 36, 192]) tgt_emb.shape=torch.Size([1, 143, 192])\n",
      "DEBUG: prob.shape=torch.Size([1, 143, 192])\n",
      "DEBUG: next_symb=68\n",
      "DEBUG: i=143\n",
      "DEBUG: src_emb.shape=torch.Size([1, 36, 192]) tgt_emb.shape=torch.Size([1, 144, 192])\n",
      "DEBUG: prob.shape=torch.Size([1, 144, 192])\n",
      "DEBUG: next_symb=68\n",
      "DEBUG: i=144\n",
      "DEBUG: src_emb.shape=torch.Size([1, 36, 192]) tgt_emb.shape=torch.Size([1, 145, 192])\n",
      "DEBUG: prob.shape=torch.Size([1, 145, 192])\n",
      "DEBUG: next_symb=68\n",
      "DEBUG: i=145\n",
      "DEBUG: src_emb.shape=torch.Size([1, 36, 192]) tgt_emb.shape=torch.Size([1, 146, 192])\n",
      "DEBUG: prob.shape=torch.Size([1, 146, 192])\n",
      "DEBUG: next_symb=68\n",
      "DEBUG: i=146\n",
      "DEBUG: src_emb.shape=torch.Size([1, 36, 192]) tgt_emb.shape=torch.Size([1, 147, 192])\n",
      "DEBUG: prob.shape=torch.Size([1, 147, 192])\n",
      "DEBUG: next_symb=68\n",
      "DEBUG: i=147\n",
      "DEBUG: src_emb.shape=torch.Size([1, 36, 192]) tgt_emb.shape=torch.Size([1, 148, 192])\n",
      "DEBUG: prob.shape=torch.Size([1, 148, 192])\n",
      "DEBUG: next_symb=68\n",
      "DEBUG: i=148\n",
      "DEBUG: src_emb.shape=torch.Size([1, 36, 192]) tgt_emb.shape=torch.Size([1, 149, 192])\n",
      "DEBUG: prob.shape=torch.Size([1, 149, 192])\n",
      "DEBUG: next_symb=68\n",
      "DEBUG: i=149\n",
      "DEBUG: src_emb.shape=torch.Size([1, 36, 192]) tgt_emb.shape=torch.Size([1, 150, 192])\n",
      "DEBUG: prob.shape=torch.Size([1, 150, 192])\n",
      "DEBUG: next_symb=68\n",
      "DEBUG: i=150\n",
      "DEBUG: src_emb.shape=torch.Size([1, 36, 192]) tgt_emb.shape=torch.Size([1, 151, 192])\n",
      "DEBUG: prob.shape=torch.Size([1, 151, 192])\n",
      "DEBUG: next_symb=68\n",
      "DEBUG: i=151\n",
      "DEBUG: src_emb.shape=torch.Size([1, 36, 192]) tgt_emb.shape=torch.Size([1, 152, 192])\n",
      "DEBUG: prob.shape=torch.Size([1, 152, 192])\n",
      "DEBUG: next_symb=68\n",
      "DEBUG: i=152\n",
      "DEBUG: src_emb.shape=torch.Size([1, 36, 192]) tgt_emb.shape=torch.Size([1, 153, 192])\n",
      "DEBUG: prob.shape=torch.Size([1, 153, 192])\n",
      "DEBUG: next_symb=68\n",
      "DEBUG: i=153\n",
      "DEBUG: src_emb.shape=torch.Size([1, 36, 192]) tgt_emb.shape=torch.Size([1, 154, 192])\n",
      "DEBUG: prob.shape=torch.Size([1, 154, 192])\n",
      "DEBUG: next_symb=68\n",
      "DEBUG: i=154\n",
      "DEBUG: src_emb.shape=torch.Size([1, 36, 192]) tgt_emb.shape=torch.Size([1, 155, 192])\n",
      "DEBUG: prob.shape=torch.Size([1, 155, 192])\n",
      "DEBUG: next_symb=68\n",
      "DEBUG: i=155\n",
      "DEBUG: src_emb.shape=torch.Size([1, 36, 192]) tgt_emb.shape=torch.Size([1, 156, 192])\n",
      "DEBUG: prob.shape=torch.Size([1, 156, 192])\n",
      "DEBUG: next_symb=68\n",
      "DEBUG: i=156\n",
      "DEBUG: src_emb.shape=torch.Size([1, 36, 192]) tgt_emb.shape=torch.Size([1, 157, 192])\n",
      "DEBUG: prob.shape=torch.Size([1, 157, 192])\n",
      "DEBUG: next_symb=68\n",
      "DEBUG: i=157\n",
      "DEBUG: src_emb.shape=torch.Size([1, 36, 192]) tgt_emb.shape=torch.Size([1, 158, 192])\n",
      "DEBUG: prob.shape=torch.Size([1, 158, 192])\n",
      "DEBUG: next_symb=68\n",
      "DEBUG: i=158\n",
      "DEBUG: src_emb.shape=torch.Size([1, 36, 192]) tgt_emb.shape=torch.Size([1, 159, 192])\n",
      "DEBUG: prob.shape=torch.Size([1, 159, 192])\n",
      "DEBUG: next_symb=68\n",
      "DEBUG: i=159\n",
      "DEBUG: src_emb.shape=torch.Size([1, 36, 192]) tgt_emb.shape=torch.Size([1, 160, 192])\n",
      "DEBUG: prob.shape=torch.Size([1, 160, 192])\n",
      "DEBUG: next_symb=68\n",
      "DEBUG: i=160\n",
      "DEBUG: src_emb.shape=torch.Size([1, 36, 192]) tgt_emb.shape=torch.Size([1, 161, 192])\n",
      "DEBUG: prob.shape=torch.Size([1, 161, 192])\n",
      "DEBUG: next_symb=68\n",
      "DEBUG: i=161\n",
      "DEBUG: src_emb.shape=torch.Size([1, 36, 192]) tgt_emb.shape=torch.Size([1, 162, 192])\n",
      "DEBUG: prob.shape=torch.Size([1, 162, 192])\n",
      "DEBUG: next_symb=68\n",
      "DEBUG: i=162\n",
      "DEBUG: src_emb.shape=torch.Size([1, 36, 192]) tgt_emb.shape=torch.Size([1, 163, 192])\n",
      "DEBUG: prob.shape=torch.Size([1, 163, 192])\n",
      "DEBUG: next_symb=68\n",
      "DEBUG: i=163\n",
      "DEBUG: src_emb.shape=torch.Size([1, 36, 192]) tgt_emb.shape=torch.Size([1, 164, 192])\n",
      "DEBUG: prob.shape=torch.Size([1, 164, 192])\n",
      "DEBUG: next_symb=68\n",
      "DEBUG: i=164\n",
      "DEBUG: src_emb.shape=torch.Size([1, 36, 192]) tgt_emb.shape=torch.Size([1, 165, 192])\n",
      "DEBUG: prob.shape=torch.Size([1, 165, 192])\n",
      "DEBUG: next_symb=68\n",
      "DEBUG: i=165\n",
      "DEBUG: src_emb.shape=torch.Size([1, 36, 192]) tgt_emb.shape=torch.Size([1, 166, 192])\n",
      "DEBUG: prob.shape=torch.Size([1, 166, 192])\n",
      "DEBUG: next_symb=68\n",
      "DEBUG: i=166\n",
      "DEBUG: src_emb.shape=torch.Size([1, 36, 192]) tgt_emb.shape=torch.Size([1, 167, 192])\n",
      "DEBUG: prob.shape=torch.Size([1, 167, 192])\n",
      "DEBUG: next_symb=68\n",
      "DEBUG: i=167\n",
      "DEBUG: src_emb.shape=torch.Size([1, 36, 192]) tgt_emb.shape=torch.Size([1, 168, 192])\n",
      "DEBUG: prob.shape=torch.Size([1, 168, 192])\n",
      "DEBUG: next_symb=68\n",
      "DEBUG: i=168\n",
      "DEBUG: src_emb.shape=torch.Size([1, 36, 192]) tgt_emb.shape=torch.Size([1, 169, 192])\n",
      "DEBUG: prob.shape=torch.Size([1, 169, 192])\n",
      "DEBUG: next_symb=68\n",
      "DEBUG: i=169\n",
      "DEBUG: src_emb.shape=torch.Size([1, 36, 192]) tgt_emb.shape=torch.Size([1, 170, 192])\n",
      "DEBUG: prob.shape=torch.Size([1, 170, 192])\n",
      "DEBUG: next_symb=68\n",
      "DEBUG: i=170\n",
      "DEBUG: src_emb.shape=torch.Size([1, 36, 192]) tgt_emb.shape=torch.Size([1, 171, 192])\n",
      "DEBUG: prob.shape=torch.Size([1, 171, 192])\n",
      "DEBUG: next_symb=68\n",
      "DEBUG: i=171\n",
      "DEBUG: src_emb.shape=torch.Size([1, 36, 192]) tgt_emb.shape=torch.Size([1, 172, 192])\n",
      "DEBUG: prob.shape=torch.Size([1, 172, 192])\n",
      "DEBUG: next_symb=68\n",
      "DEBUG: i=172\n",
      "DEBUG: src_emb.shape=torch.Size([1, 36, 192]) tgt_emb.shape=torch.Size([1, 173, 192])\n",
      "DEBUG: prob.shape=torch.Size([1, 173, 192])\n",
      "DEBUG: next_symb=68\n",
      "DEBUG: i=173\n",
      "DEBUG: src_emb.shape=torch.Size([1, 36, 192]) tgt_emb.shape=torch.Size([1, 174, 192])\n",
      "DEBUG: prob.shape=torch.Size([1, 174, 192])\n",
      "DEBUG: next_symb=68\n",
      "DEBUG: i=174\n",
      "DEBUG: src_emb.shape=torch.Size([1, 36, 192]) tgt_emb.shape=torch.Size([1, 175, 192])\n",
      "DEBUG: prob.shape=torch.Size([1, 175, 192])\n",
      "DEBUG: next_symb=68\n",
      "DEBUG: i=175\n",
      "DEBUG: src_emb.shape=torch.Size([1, 36, 192]) tgt_emb.shape=torch.Size([1, 176, 192])\n",
      "DEBUG: prob.shape=torch.Size([1, 176, 192])\n",
      "DEBUG: next_symb=68\n",
      "DEBUG: i=176\n",
      "DEBUG: src_emb.shape=torch.Size([1, 36, 192]) tgt_emb.shape=torch.Size([1, 177, 192])\n",
      "DEBUG: prob.shape=torch.Size([1, 177, 192])\n",
      "DEBUG: next_symb=68\n",
      "DEBUG: i=177\n",
      "DEBUG: src_emb.shape=torch.Size([1, 36, 192]) tgt_emb.shape=torch.Size([1, 178, 192])\n",
      "DEBUG: prob.shape=torch.Size([1, 178, 192])\n",
      "DEBUG: next_symb=68\n",
      "DEBUG: i=178\n",
      "DEBUG: src_emb.shape=torch.Size([1, 36, 192]) tgt_emb.shape=torch.Size([1, 179, 192])\n",
      "DEBUG: prob.shape=torch.Size([1, 179, 192])\n",
      "DEBUG: next_symb=68\n",
      "DEBUG: i=179\n",
      "DEBUG: src_emb.shape=torch.Size([1, 36, 192]) tgt_emb.shape=torch.Size([1, 180, 192])\n",
      "DEBUG: prob.shape=torch.Size([1, 180, 192])\n",
      "DEBUG: next_symb=68\n",
      "DEBUG: i=180\n",
      "DEBUG: src_emb.shape=torch.Size([1, 36, 192]) tgt_emb.shape=torch.Size([1, 181, 192])\n",
      "DEBUG: prob.shape=torch.Size([1, 181, 192])\n",
      "DEBUG: next_symb=68\n",
      "DEBUG: i=181\n",
      "DEBUG: src_emb.shape=torch.Size([1, 36, 192]) tgt_emb.shape=torch.Size([1, 182, 192])\n",
      "DEBUG: prob.shape=torch.Size([1, 182, 192])\n",
      "DEBUG: next_symb=68\n",
      "DEBUG: i=182\n",
      "DEBUG: src_emb.shape=torch.Size([1, 36, 192]) tgt_emb.shape=torch.Size([1, 183, 192])\n",
      "DEBUG: prob.shape=torch.Size([1, 183, 192])\n",
      "DEBUG: next_symb=68\n",
      "DEBUG: i=183\n",
      "DEBUG: src_emb.shape=torch.Size([1, 36, 192]) tgt_emb.shape=torch.Size([1, 184, 192])\n",
      "DEBUG: prob.shape=torch.Size([1, 184, 192])\n",
      "DEBUG: next_symb=68\n",
      "DEBUG: i=184\n",
      "DEBUG: src_emb.shape=torch.Size([1, 36, 192]) tgt_emb.shape=torch.Size([1, 185, 192])\n",
      "DEBUG: prob.shape=torch.Size([1, 185, 192])\n",
      "DEBUG: next_symb=68\n",
      "DEBUG: i=185\n",
      "DEBUG: src_emb.shape=torch.Size([1, 36, 192]) tgt_emb.shape=torch.Size([1, 186, 192])\n",
      "DEBUG: prob.shape=torch.Size([1, 186, 192])\n",
      "DEBUG: next_symb=68\n",
      "DEBUG: i=186\n",
      "DEBUG: src_emb.shape=torch.Size([1, 36, 192]) tgt_emb.shape=torch.Size([1, 187, 192])\n",
      "DEBUG: prob.shape=torch.Size([1, 187, 192])\n",
      "DEBUG: next_symb=68\n",
      "DEBUG: i=187\n",
      "DEBUG: src_emb.shape=torch.Size([1, 36, 192]) tgt_emb.shape=torch.Size([1, 188, 192])\n",
      "DEBUG: prob.shape=torch.Size([1, 188, 192])\n",
      "DEBUG: next_symb=68\n",
      "DEBUG: i=188\n",
      "DEBUG: src_emb.shape=torch.Size([1, 36, 192]) tgt_emb.shape=torch.Size([1, 189, 192])\n",
      "DEBUG: prob.shape=torch.Size([1, 189, 192])\n",
      "DEBUG: next_symb=68\n",
      "DEBUG: i=189\n",
      "DEBUG: src_emb.shape=torch.Size([1, 36, 192]) tgt_emb.shape=torch.Size([1, 190, 192])\n",
      "DEBUG: prob.shape=torch.Size([1, 190, 192])\n",
      "DEBUG: next_symb=68\n",
      "DEBUG: i=190\n",
      "DEBUG: src_emb.shape=torch.Size([1, 36, 192]) tgt_emb.shape=torch.Size([1, 191, 192])\n",
      "DEBUG: prob.shape=torch.Size([1, 191, 192])\n",
      "DEBUG: next_symb=68\n",
      "DEBUG: i=191\n",
      "DEBUG: src_emb.shape=torch.Size([1, 36, 192]) tgt_emb.shape=torch.Size([1, 192, 192])\n",
      "DEBUG: prob.shape=torch.Size([1, 192, 192])\n",
      "DEBUG: next_symb=68\n",
      "DEBUG: i=192\n",
      "DEBUG: src_emb.shape=torch.Size([1, 36, 192]) tgt_emb.shape=torch.Size([1, 193, 192])\n",
      "DEBUG: prob.shape=torch.Size([1, 193, 192])\n",
      "DEBUG: next_symb=68\n",
      "DEBUG: i=193\n",
      "DEBUG: src_emb.shape=torch.Size([1, 36, 192]) tgt_emb.shape=torch.Size([1, 194, 192])\n",
      "DEBUG: prob.shape=torch.Size([1, 194, 192])\n",
      "DEBUG: next_symb=68\n",
      "DEBUG: i=194\n",
      "DEBUG: src_emb.shape=torch.Size([1, 36, 192]) tgt_emb.shape=torch.Size([1, 195, 192])\n",
      "DEBUG: prob.shape=torch.Size([1, 195, 192])\n",
      "DEBUG: next_symb=68\n",
      "DEBUG: i=195\n",
      "DEBUG: src_emb.shape=torch.Size([1, 36, 192]) tgt_emb.shape=torch.Size([1, 196, 192])\n",
      "DEBUG: prob.shape=torch.Size([1, 196, 192])\n",
      "DEBUG: next_symb=68\n",
      "DEBUG: i=196\n",
      "DEBUG: src_emb.shape=torch.Size([1, 36, 192]) tgt_emb.shape=torch.Size([1, 197, 192])\n",
      "DEBUG: prob.shape=torch.Size([1, 197, 192])\n",
      "DEBUG: next_symb=68\n",
      "DEBUG: i=197\n",
      "DEBUG: src_emb.shape=torch.Size([1, 36, 192]) tgt_emb.shape=torch.Size([1, 198, 192])\n",
      "DEBUG: prob.shape=torch.Size([1, 198, 192])\n",
      "DEBUG: next_symb=68\n",
      "DEBUG: i=198\n",
      "DEBUG: src_emb.shape=torch.Size([1, 36, 192]) tgt_emb.shape=torch.Size([1, 199, 192])\n",
      "DEBUG: prob.shape=torch.Size([1, 199, 192])\n",
      "DEBUG: next_symb=68\n",
      "DEBUG: i=199\n",
      "DEBUG: src_emb.shape=torch.Size([1, 36, 192]) tgt_emb.shape=torch.Size([1, 200, 192])\n",
      "DEBUG: prob.shape=torch.Size([1, 200, 192])\n",
      "DEBUG: next_symb=68\n",
      "DEBUG: i=200\n",
      "DEBUG: src_emb.shape=torch.Size([1, 36, 192]) tgt_emb.shape=torch.Size([1, 201, 192])\n",
      "DEBUG: prob.shape=torch.Size([1, 201, 192])\n",
      "DEBUG: next_symb=68\n",
      "DEBUG: i=201\n",
      "DEBUG: src_emb.shape=torch.Size([1, 36, 192]) tgt_emb.shape=torch.Size([1, 202, 192])\n",
      "DEBUG: prob.shape=torch.Size([1, 202, 192])\n",
      "DEBUG: next_symb=68\n",
      "DEBUG: i=202\n",
      "DEBUG: src_emb.shape=torch.Size([1, 36, 192]) tgt_emb.shape=torch.Size([1, 203, 192])\n",
      "DEBUG: prob.shape=torch.Size([1, 203, 192])\n",
      "DEBUG: next_symb=68\n",
      "DEBUG: i=203\n",
      "DEBUG: src_emb.shape=torch.Size([1, 36, 192]) tgt_emb.shape=torch.Size([1, 204, 192])\n",
      "DEBUG: prob.shape=torch.Size([1, 204, 192])\n",
      "DEBUG: next_symb=68\n",
      "DEBUG: i=204\n",
      "DEBUG: src_emb.shape=torch.Size([1, 36, 192]) tgt_emb.shape=torch.Size([1, 205, 192])\n",
      "DEBUG: prob.shape=torch.Size([1, 205, 192])\n",
      "DEBUG: next_symb=68\n",
      "DEBUG: i=205\n",
      "DEBUG: src_emb.shape=torch.Size([1, 36, 192]) tgt_emb.shape=torch.Size([1, 206, 192])\n",
      "DEBUG: prob.shape=torch.Size([1, 206, 192])\n",
      "DEBUG: next_symb=68\n",
      "DEBUG: i=206\n",
      "DEBUG: src_emb.shape=torch.Size([1, 36, 192]) tgt_emb.shape=torch.Size([1, 207, 192])\n",
      "DEBUG: prob.shape=torch.Size([1, 207, 192])\n",
      "DEBUG: next_symb=68\n",
      "DEBUG: i=207\n",
      "DEBUG: src_emb.shape=torch.Size([1, 36, 192]) tgt_emb.shape=torch.Size([1, 208, 192])\n",
      "DEBUG: prob.shape=torch.Size([1, 208, 192])\n",
      "DEBUG: next_symb=68\n",
      "DEBUG: i=208\n",
      "DEBUG: src_emb.shape=torch.Size([1, 36, 192]) tgt_emb.shape=torch.Size([1, 209, 192])\n",
      "DEBUG: prob.shape=torch.Size([1, 209, 192])\n",
      "DEBUG: next_symb=68\n",
      "DEBUG: i=209\n",
      "DEBUG: src_emb.shape=torch.Size([1, 36, 192]) tgt_emb.shape=torch.Size([1, 210, 192])\n",
      "DEBUG: prob.shape=torch.Size([1, 210, 192])\n",
      "DEBUG: next_symb=68\n",
      "DEBUG: i=210\n",
      "DEBUG: src_emb.shape=torch.Size([1, 36, 192]) tgt_emb.shape=torch.Size([1, 211, 192])\n",
      "DEBUG: prob.shape=torch.Size([1, 211, 192])\n",
      "DEBUG: next_symb=68\n",
      "DEBUG: i=211\n",
      "DEBUG: src_emb.shape=torch.Size([1, 36, 192]) tgt_emb.shape=torch.Size([1, 212, 192])\n",
      "DEBUG: prob.shape=torch.Size([1, 212, 192])\n",
      "DEBUG: next_symb=68\n",
      "DEBUG: i=212\n",
      "DEBUG: src_emb.shape=torch.Size([1, 36, 192]) tgt_emb.shape=torch.Size([1, 213, 192])\n",
      "DEBUG: prob.shape=torch.Size([1, 213, 192])\n",
      "DEBUG: next_symb=68\n",
      "DEBUG: i=213\n",
      "DEBUG: src_emb.shape=torch.Size([1, 36, 192]) tgt_emb.shape=torch.Size([1, 214, 192])\n",
      "DEBUG: prob.shape=torch.Size([1, 214, 192])\n",
      "DEBUG: next_symb=68\n",
      "DEBUG: i=214\n",
      "DEBUG: src_emb.shape=torch.Size([1, 36, 192]) tgt_emb.shape=torch.Size([1, 215, 192])\n",
      "DEBUG: prob.shape=torch.Size([1, 215, 192])\n",
      "DEBUG: next_symb=68\n",
      "DEBUG: i=215\n",
      "DEBUG: src_emb.shape=torch.Size([1, 36, 192]) tgt_emb.shape=torch.Size([1, 216, 192])\n",
      "DEBUG: prob.shape=torch.Size([1, 216, 192])\n",
      "DEBUG: next_symb=68\n",
      "DEBUG: i=216\n",
      "DEBUG: src_emb.shape=torch.Size([1, 36, 192]) tgt_emb.shape=torch.Size([1, 217, 192])\n",
      "DEBUG: prob.shape=torch.Size([1, 217, 192])\n",
      "DEBUG: next_symb=68\n",
      "DEBUG: i=217\n",
      "DEBUG: src_emb.shape=torch.Size([1, 36, 192]) tgt_emb.shape=torch.Size([1, 218, 192])\n",
      "DEBUG: prob.shape=torch.Size([1, 218, 192])\n",
      "DEBUG: next_symb=68\n",
      "DEBUG: i=218\n",
      "DEBUG: src_emb.shape=torch.Size([1, 36, 192]) tgt_emb.shape=torch.Size([1, 219, 192])\n",
      "DEBUG: prob.shape=torch.Size([1, 219, 192])\n",
      "DEBUG: next_symb=68\n",
      "DEBUG: i=219\n",
      "DEBUG: src_emb.shape=torch.Size([1, 36, 192]) tgt_emb.shape=torch.Size([1, 220, 192])\n",
      "DEBUG: prob.shape=torch.Size([1, 220, 192])\n",
      "DEBUG: next_symb=68\n",
      "DEBUG: i=220\n",
      "DEBUG: src_emb.shape=torch.Size([1, 36, 192]) tgt_emb.shape=torch.Size([1, 221, 192])\n",
      "DEBUG: prob.shape=torch.Size([1, 221, 192])\n",
      "DEBUG: next_symb=68\n",
      "DEBUG: i=221\n",
      "DEBUG: src_emb.shape=torch.Size([1, 36, 192]) tgt_emb.shape=torch.Size([1, 222, 192])\n",
      "DEBUG: prob.shape=torch.Size([1, 222, 192])\n",
      "DEBUG: next_symb=68\n",
      "DEBUG: i=222\n",
      "DEBUG: src_emb.shape=torch.Size([1, 36, 192]) tgt_emb.shape=torch.Size([1, 223, 192])\n",
      "DEBUG: prob.shape=torch.Size([1, 223, 192])\n",
      "DEBUG: next_symb=68\n",
      "DEBUG: i=223\n",
      "DEBUG: src_emb.shape=torch.Size([1, 36, 192]) tgt_emb.shape=torch.Size([1, 224, 192])\n",
      "DEBUG: prob.shape=torch.Size([1, 224, 192])\n",
      "DEBUG: next_symb=68\n",
      "DEBUG: i=224\n",
      "DEBUG: src_emb.shape=torch.Size([1, 36, 192]) tgt_emb.shape=torch.Size([1, 225, 192])\n",
      "DEBUG: prob.shape=torch.Size([1, 225, 192])\n",
      "DEBUG: next_symb=68\n",
      "DEBUG: i=225\n",
      "DEBUG: src_emb.shape=torch.Size([1, 36, 192]) tgt_emb.shape=torch.Size([1, 226, 192])\n",
      "DEBUG: prob.shape=torch.Size([1, 226, 192])\n",
      "DEBUG: next_symb=68\n",
      "DEBUG: i=226\n",
      "DEBUG: src_emb.shape=torch.Size([1, 36, 192]) tgt_emb.shape=torch.Size([1, 227, 192])\n",
      "DEBUG: prob.shape=torch.Size([1, 227, 192])\n",
      "DEBUG: next_symb=68\n",
      "DEBUG: i=227\n",
      "DEBUG: src_emb.shape=torch.Size([1, 36, 192]) tgt_emb.shape=torch.Size([1, 228, 192])\n",
      "DEBUG: prob.shape=torch.Size([1, 228, 192])\n",
      "DEBUG: next_symb=68\n",
      "DEBUG: i=228\n",
      "DEBUG: src_emb.shape=torch.Size([1, 36, 192]) tgt_emb.shape=torch.Size([1, 229, 192])\n",
      "DEBUG: prob.shape=torch.Size([1, 229, 192])\n",
      "DEBUG: next_symb=68\n",
      "DEBUG: i=229\n",
      "DEBUG: src_emb.shape=torch.Size([1, 36, 192]) tgt_emb.shape=torch.Size([1, 230, 192])\n",
      "DEBUG: prob.shape=torch.Size([1, 230, 192])\n",
      "DEBUG: next_symb=68\n",
      "DEBUG: i=230\n",
      "DEBUG: src_emb.shape=torch.Size([1, 36, 192]) tgt_emb.shape=torch.Size([1, 231, 192])\n",
      "DEBUG: prob.shape=torch.Size([1, 231, 192])\n",
      "DEBUG: next_symb=68\n",
      "DEBUG: i=231\n",
      "DEBUG: src_emb.shape=torch.Size([1, 36, 192]) tgt_emb.shape=torch.Size([1, 232, 192])\n",
      "DEBUG: prob.shape=torch.Size([1, 232, 192])\n",
      "DEBUG: next_symb=68\n",
      "DEBUG: i=232\n",
      "DEBUG: src_emb.shape=torch.Size([1, 36, 192]) tgt_emb.shape=torch.Size([1, 233, 192])\n",
      "DEBUG: prob.shape=torch.Size([1, 233, 192])\n",
      "DEBUG: next_symb=68\n",
      "DEBUG: i=233\n",
      "DEBUG: src_emb.shape=torch.Size([1, 36, 192]) tgt_emb.shape=torch.Size([1, 234, 192])\n",
      "DEBUG: prob.shape=torch.Size([1, 234, 192])\n",
      "DEBUG: next_symb=68\n",
      "DEBUG: i=234\n",
      "DEBUG: src_emb.shape=torch.Size([1, 36, 192]) tgt_emb.shape=torch.Size([1, 235, 192])\n",
      "DEBUG: prob.shape=torch.Size([1, 235, 192])\n",
      "DEBUG: next_symb=68\n"
     ]
    },
    {
     "data": {
      "text/plain": [
       "array([[100,  68,  68,  68,  68,  68,  68,  68,  68,  68,  68,  68,  68,\n",
       "         68,  68,  68,  68,  68,  68,  68,  68,  68,  68,  68,  68,  68,\n",
       "         68,  68,  68,  68,  68,  68,  68,  68,  68,  68,  68,  68,  68,\n",
       "         68,  68,  68,  68,  68,  68,  68,  68,  68,  68,  68,  68,  68,\n",
       "         68,  68,  68,  68,  68,  68,  68,  68,  68,  68,  68,  68,  68,\n",
       "         68,  68,  68,  68,  68,  68,  68,  68,  68,  68,  68,  68,  68,\n",
       "         68,  68,  68,  68,  68,  68,  68,  68,  68,  68,  68,  68,  68,\n",
       "         68,  68,  68,  68,  68,  68,  68,  68,  68,  68,  68,  68,  68,\n",
       "         68,  68,  68,  68,  68,  68,  68,  68,  68,  68,  68,  68,  68,\n",
       "         68,  68,  68,  68,  68,  68,  68,  68,  68,  68,  68,  68,  68,\n",
       "         68,  68,  68,  68,  68,  68,  68,  68,  68,  68,  68,  68,  68,\n",
       "         68,  68,  68,  68,  68,  68,  68,  68,  68,  68,  68,  68,  68,\n",
       "         68,  68,  68,  68,  68,  68,  68,  68,  68,  68,  68,  68,  68,\n",
       "         68,  68,  68,  68,  68,  68,  68,  68,  68,  68,  68,  68,  68,\n",
       "         68,  68,  68,  68,  68,  68,  68,  68,  68,  68,  68,  68,  68,\n",
       "         68,  68,  68,  68,  68,  68,  68,  68,  68,  68,  68,  68,  68,\n",
       "         68,  68,  68,  68,  68,  68,  68,  68,  68,  68,  68,  68,  68,\n",
       "         68,  68,  68,  68,  68,  68,  68,  68,  68,  68,  68,  68,  68,\n",
       "         68,  68]])"
      ]
     },
     "execution_count": 5,
     "metadata": {},
     "output_type": "execute_result"
    }
   ],
   "source": [
    "bp = \"./examples/rudevices_chunk/2/b/\"\n",
    "audio_f = bp+'dd9262b6-bb56-4ffa-9458-2790458ce27e.wav'\n",
    "src_text = 'скачок который видел в начале графика'\n",
    "target_text = 'скачок который видел в конце графика'\n",
    "model = \"ckpts/seq2seq.pkl\"\n",
    "\n",
    "\n",
    "speech_editing(audio_f, src_text, target_text, None, model)"
   ]
  },
  {
   "cell_type": "code",
   "execution_count": null,
   "metadata": {},
   "outputs": [],
   "source": [
    "# DEBUG: src_emb.shape=torch.Size([1, 36, 192]) tgt_emb.shape=torch.Size([2, 1, 192])\n",
    "# DEBUG: src_emb.shape=torch.Size([16, 98, 192]) tgt_emb.shape=torch.Size([16, 344, 192])"
   ]
  },
  {
   "cell_type": "code",
   "execution_count": 10,
   "metadata": {},
   "outputs": [
    {
     "name": "stdout",
     "output_type": "stream",
     "text": [
      "tensor([[[0.7778, 0.7936, 0.2052, 0.7388, 0.5789],\n",
      "         [0.7664, 0.4013, 0.7040, 0.6563, 0.3191],\n",
      "         [0.0614, 0.9484, 0.3690, 0.4721, 0.4780]]])\n"
     ]
    },
    {
     "data": {
      "text/plain": [
       "tensor([[0.0614, 0.9484, 0.3690, 0.4721, 0.4780]])"
      ]
     },
     "execution_count": 10,
     "metadata": {},
     "output_type": "execute_result"
    }
   ],
   "source": [
    "_ = torch.rand((1, 3, 5))\n",
    "print(_)\n",
    "_[:, -1, :]"
   ]
  },
  {
   "cell_type": "code",
   "execution_count": null,
   "metadata": {},
   "outputs": [],
   "source": []
  }
 ],
 "metadata": {
  "kernelspec": {
   "display_name": "superenv",
   "language": "python",
   "name": "superenv"
  },
  "language_info": {
   "codemirror_mode": {
    "name": "ipython",
    "version": 3
   },
   "file_extension": ".py",
   "mimetype": "text/x-python",
   "name": "python",
   "nbconvert_exporter": "python",
   "pygments_lexer": "ipython3",
   "version": "3.10.0"
  }
 },
 "nbformat": 4,
 "nbformat_minor": 2
}

{
 "cells": [
  {
   "cell_type": "code",
   "execution_count": 3,
   "metadata": {},
   "outputs": [],
   "source": [
    "# !pip install --trusted-host pypi.org --trusted-host pypi.python.org --trusted-host files.pythonhosted.org git+https://github.com/m-bain/whisperx.git\n",
    "\n",
    "# git+https://github.com/m-bain/whisperx.git\n",
    "# so_vits_svc_fork\n",
    "# TTS\n",
    "# wget\n",
    "# ...."
   ]
  },
  {
   "cell_type": "code",
   "execution_count": 7,
   "metadata": {},
   "outputs": [],
   "source": [
    "import TTS\n",
    "from TTS.tts.configs.vits_config import VitsConfig\n",
    "from TTS.tts.models.vits import Vits, VitsArgs, VitsAudioConfig\n",
    "from TTS.tts.utils.text.tokenizer import TTSTokenizer"
   ]
  },
  {
   "cell_type": "code",
   "execution_count": 40,
   "metadata": {},
   "outputs": [
    {
     "name": "stdout",
     "output_type": "stream",
     "text": [
      " > Setting up Audio Processor...\n",
      " | > sample_rate:16000\n",
      " | > resample:False\n",
      " | > num_mels:80\n",
      " | > log_func:np.log10\n",
      " | > min_level_db:0\n",
      " | > frame_shift_ms:None\n",
      " | > frame_length_ms:None\n",
      " | > ref_level_db:None\n",
      " | > fft_size:1024\n",
      " | > power:None\n",
      " | > preemphasis:0.0\n",
      " | > griffin_lim_iters:None\n",
      " | > signal_norm:None\n",
      " | > symmetric_norm:None\n",
      " | > mel_fmin:0\n",
      " | > mel_fmax:None\n",
      " | > pitch_fmin:None\n",
      " | > pitch_fmax:None\n",
      " | > spec_gain:20.0\n",
      " | > stft_pad_mode:reflect\n",
      " | > max_norm:1.0\n",
      " | > clip_norm:True\n",
      " | > do_trim_silence:False\n",
      " | > trim_db:60\n",
      " | > do_sound_norm:False\n",
      " | > do_amp_to_db_linear:True\n",
      " | > do_amp_to_db_mel:True\n",
      " | > do_rms_norm:False\n",
      " | > db_level:None\n",
      " | > stats_path:None\n",
      " | > base:10\n",
      " | > hop_length:256\n",
      " | > win_length:1024\n",
      " > Model fully restored. \n",
      " > Setting up Audio Processor...\n",
      " | > sample_rate:16000\n",
      " | > resample:False\n",
      " | > num_mels:64\n",
      " | > log_func:np.log10\n",
      " | > min_level_db:-100\n",
      " | > frame_shift_ms:None\n",
      " | > frame_length_ms:None\n",
      " | > ref_level_db:20\n",
      " | > fft_size:512\n",
      " | > power:1.5\n",
      " | > preemphasis:0.97\n",
      " | > griffin_lim_iters:60\n",
      " | > signal_norm:False\n",
      " | > symmetric_norm:False\n",
      " | > mel_fmin:0\n",
      " | > mel_fmax:8000.0\n",
      " | > pitch_fmin:1.0\n",
      " | > pitch_fmax:640.0\n",
      " | > spec_gain:20.0\n",
      " | > stft_pad_mode:reflect\n",
      " | > max_norm:4.0\n",
      " | > clip_norm:False\n",
      " | > do_trim_silence:False\n",
      " | > trim_db:60\n",
      " | > do_sound_norm:False\n",
      " | > do_amp_to_db_linear:True\n",
      " | > do_amp_to_db_mel:True\n",
      " | > do_rms_norm:True\n",
      " | > db_level:-27.0\n",
      " | > stats_path:None\n",
      " | > base:10\n",
      " | > hop_length:160\n",
      " | > win_length:400\n"
     ]
    }
   ],
   "source": [
    "config = VitsConfig()\n",
    "config.load_json(file_name=\"ckpts/yourrtts_config.json\")\n",
    "model = Vits.init_from_config(config)\n",
    "tokenizer = TTSTokenizer.init_from_config(config)"
   ]
  },
  {
   "cell_type": "code",
   "execution_count": 41,
   "metadata": {},
   "outputs": [
    {
     "data": {
      "text/plain": [
       "(<TTS.tts.utils.text.tokenizer.TTSTokenizer at 0x7f4c36306920>,\n",
       " VitsConfig(output_path='/mnt/storage/kocharyan/NIR', logger_uri=None, run_name='YourTTS-RU-RUSLAN', project_name='YourTTS', run_description='\\n            - Original YourTTS trained using RUSLAN dataset\\n        ', print_step=50, plot_step=100, model_param_stats=False, wandb_entity=None, dashboard_logger='tensorboard', save_on_interrupt=True, log_model_step=1000, save_step=5000, save_n_checkpoints=2, save_checkpoints=True, save_all_best=False, save_best_after=10000, target_loss='loss_1', print_eval=False, test_delay_epochs=0, run_eval=True, run_eval_steps=None, distributed_backend='nccl', distributed_url='tcp://localhost:54321', mixed_precision=False, precision='fp16', epochs=1000, batch_size=32, eval_batch_size=32, grad_clip=[1000.0, 1000.0], scheduler_after_epoch=True, lr=0.001, optimizer='AdamW', optimizer_params={'betas': [0.8, 0.99], 'eps': 1e-09, 'weight_decay': 0.01}, lr_scheduler=None, lr_scheduler_params={}, use_grad_scaler=False, allow_tf32=False, cudnn_enable=True, cudnn_deterministic=False, cudnn_benchmark=False, training_seed=54321, model='vits', num_loader_workers=8, num_eval_loader_workers=0, use_noise_augment=False, audio=VitsAudioConfig(fft_size=1024, sample_rate=16000, win_length=1024, hop_length=256, num_mels=80, mel_fmin=0, mel_fmax=None), use_phonemes=False, phonemizer='espeak', phoneme_language='ru', compute_input_seq_cache=True, text_cleaner='multilingual_cleaners', enable_eos_bos_chars=False, test_sentences_file='', phoneme_cache_path=None, characters=CharactersConfig(characters_class='TTS.tts.models.vits.VitsCharacters', vocab_dict=None, pad='_', eos='&', bos='*', blank=None, characters=\"ЁАБВГДЕЖЗИЙКЛМНОПСТУФХЦЧШЩЪЫЬЭЮЯабвгдежзийклмнопстуфхцчшщъыьэюяё¯·ßàáâãäæçèéêëìíîïñòóôõöùúûüÿāąćēęěīıłńōőœśūűźżǎǐǒǔабвгдежзийклмнопрстуфхцчшщъыьэюяёєіїґ–!'(),-.:;? \", punctuations=\"!'(),-.:;? \", phonemes='', is_unique=True, is_sorted=True), add_blank=True, batch_group_size=48, loss_masking=None, min_audio_len=1, max_audio_len=160000, min_text_len=1, max_text_len=inf, compute_f0=False, compute_energy=False, compute_linear_spec=True, precompute_num_workers=12, start_by_longest=True, shuffle=False, drop_last=False, datasets=[BaseDatasetConfig(formatter='ruslan', dataset_name='ruslan', path='/mnt/storage/kocharyan/NIR/../datasets_ruslan/ruslan_ds/', meta_file_train='metadata.csv', ignored_speakers=['p261', 'p225', 'p294', 'p347', 'p238', 'p234', 'p248', 'p335', 'p245', 'p326', 'p302'], language='ru', phonemizer='', meta_file_val='', meta_file_attn_mask='')], test_sentences=[[\"It took me quite a long time to develop a voice, and now that I have it I'm not going to be silent.\"], ['Be a voice, not an echo.'], [\"I'm sorry Dave. I'm afraid I can't do that.\"], [\"This cake is great. It's so delicious and moist.\"], ['Prior to November 22, 1963.']], eval_split_max_size=256, eval_split_size=0.01, use_speaker_weighted_sampler=False, speaker_weighted_sampler_alpha=1.0, use_language_weighted_sampler=False, language_weighted_sampler_alpha=1.0, use_length_weighted_sampler=False, length_weighted_sampler_alpha=1.0, model_args=VitsArgs(num_chars=177, out_channels=513, spec_segment_size=32, hidden_channels=192, hidden_channels_ffn_text_encoder=768, num_heads_text_encoder=2, num_layers_text_encoder=10, kernel_size_text_encoder=3, dropout_p_text_encoder=0.1, dropout_p_duration_predictor=0.5, kernel_size_posterior_encoder=5, dilation_rate_posterior_encoder=1, num_layers_posterior_encoder=16, kernel_size_flow=5, dilation_rate_flow=1, num_layers_flow=4, resblock_type_decoder='2', resblock_kernel_sizes_decoder=[3, 7, 11], resblock_dilation_sizes_decoder=[[1, 3, 5], [1, 3, 5], [1, 3, 5]], upsample_rates_decoder=[8, 8, 2, 2], upsample_initial_channel_decoder=512, upsample_kernel_sizes_decoder=[16, 16, 4, 4], periods_multi_period_discriminator=[2, 3, 5, 7, 11], use_sdp=True, noise_scale=1.0, inference_noise_scale=0.667, length_scale=1.0, noise_scale_dp=1.0, inference_noise_scale_dp=1.0, max_inference_len=None, init_discriminator=True, use_spectral_norm_disriminator=False, use_speaker_embedding=False, num_speakers=0, speakers_file='/mnt/storage/kocharyan/NIR/YourTTS-RU-RUSLAN-April-30-2023_03+48PM-0000000/speakers.pth', d_vector_file=['/mnt/storage/kocharyan/NIR/../datasets_ruslan/ruslan_ds/speakers.pth'], speaker_embedding_channels=256, use_d_vector_file=True, d_vector_dim=512, detach_dp_input=True, use_language_embedding=False, embedded_language_dim=4, num_languages=0, language_ids_file=None, use_speaker_encoder_as_loss=False, speaker_encoder_config_path='/home/stc/.local/share/tts/tts_models--multilingual--multi-dataset--your_tts/config_se.json', speaker_encoder_model_path='/home/stc/.local/share/tts/tts_models--multilingual--multi-dataset--your_tts/model_se.pth', condition_dp_on_speaker=True, freeze_encoder=False, freeze_DP=False, freeze_PE=False, freeze_flow_decoder=False, freeze_waveform_decoder=False, encoder_sample_rate=None, interpolate_z=True, reinit_DP=False, reinit_text_encoder=False), lr_gen=0.0002, lr_disc=0.0002, lr_scheduler_gen='ExponentialLR', lr_scheduler_gen_params={'gamma': 0.999875, 'last_epoch': -1}, lr_scheduler_disc='ExponentialLR', lr_scheduler_disc_params={'gamma': 0.999875, 'last_epoch': -1}, kl_loss_alpha=1.0, disc_loss_alpha=1.0, gen_loss_alpha=1.0, feat_loss_alpha=1.0, mel_loss_alpha=45.0, dur_loss_alpha=1.0, speaker_encoder_loss_alpha=9.0, return_wav=True, use_weighted_sampler=True, weighted_sampler_attrs={'speaker_name': 1.0}, weighted_sampler_multipliers={}, r=1, num_speakers=0, use_speaker_embedding=False, speakers_file='/mnt/storage/kocharyan/NIR/YourTTS-RU-RUSLAN-April-30-2023_03+48PM-0000000/speakers.pth', speaker_embedding_channels=256, language_ids_file=None, use_language_embedding=False, use_d_vector_file=True, d_vector_file=['/mnt/storage/kocharyan/NIR/../datasets_ruslan/ruslan_ds/speakers.pth'], d_vector_dim=512))"
      ]
     },
     "execution_count": 41,
     "metadata": {},
     "output_type": "execute_result"
    }
   ],
   "source": [
    "tokenizer"
   ]
  },
  {
   "cell_type": "code",
   "execution_count": 27,
   "metadata": {},
   "outputs": [
    {
     "name": "stdout",
     "output_type": "stream",
     "text": [
      "['_', '!', \"'\", '(', ')', ',', '-', '.', ':', ';', '?', ' ', 'Ё', 'А', 'Б', 'В', 'Г', 'Д', 'Е', 'Ж', 'З', 'И', 'Й', 'К', 'Л', 'М', 'Н', 'О', 'П', 'С', 'Т', 'У', 'Ф', 'Х', 'Ц', 'Ч', 'Ш', 'Щ', 'Ъ', 'Ы', 'Ь', 'Э', 'Ю', 'Я', 'а', 'б', 'в', 'г', 'д', 'е', 'ж', 'з', 'и', 'й', 'к', 'л', 'м', 'н', 'о', 'п', 'с', 'т', 'у', 'ф', 'х', 'ц', 'ч', 'ш', 'щ', 'ъ', 'ы', 'ь', 'э', 'ю', 'я', 'ё', '¯', '·', 'ß', 'à', 'á', 'â', 'ã', 'ä', 'æ', 'ç', 'è', 'é', 'ê', 'ë', 'ì', 'í', 'î', 'ï', 'ñ', 'ò', 'ó', 'ô', 'õ', 'ö', 'ù', 'ú', 'û', 'ü', 'ÿ', 'ā', 'ą', 'ć', 'ē', 'ę', 'ě', 'ī', 'ı', 'ł', 'ń', 'ō', 'ő', 'œ', 'ś', 'ū', 'ű', 'ź', 'ż', 'ǎ', 'ǐ', 'ǒ', 'ǔ', 'а', 'б', 'в', 'г', 'д', 'е', 'ж', 'з', 'и', 'й', 'к', 'л', 'м', 'н', 'о', 'п', 'р', 'с', 'т', 'у', 'ф', 'х', 'ц', 'ч', 'ш', 'щ', 'ъ', 'ы', 'ь', 'э', 'ю', 'я', 'ё', 'є', 'і', 'ї', 'ґ', '–', '!', \"'\", '(', ')', ',', '-', '.', ':', ';', '?', ' ', '<BLNK>']\n"
     ]
    }
   ],
   "source": [
    "print(model.tokenizer.characters.vocab)"
   ]
  },
  {
   "cell_type": "code",
   "execution_count": 31,
   "metadata": {},
   "outputs": [],
   "source": [
    "model.tokenizer.characters.eos"
   ]
  },
  {
   "cell_type": "code",
   "execution_count": null,
   "metadata": {},
   "outputs": [],
   "source": [
    "TTSTokenizer"
   ]
  }
 ],
 "metadata": {
  "kernelspec": {
   "display_name": "superenv",
   "language": "python",
   "name": "python3"
  },
  "language_info": {
   "codemirror_mode": {
    "name": "ipython",
    "version": 3
   },
   "file_extension": ".py",
   "mimetype": "text/x-python",
   "name": "python",
   "nbconvert_exporter": "python",
   "pygments_lexer": "ipython3",
   "version": "3.10.0"
  }
 },
 "nbformat": 4,
 "nbformat_minor": 2
}
